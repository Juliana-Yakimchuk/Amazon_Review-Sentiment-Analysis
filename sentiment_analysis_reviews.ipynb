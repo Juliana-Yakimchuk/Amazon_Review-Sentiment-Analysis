{
 "cells": [
  {
   "cell_type": "markdown",
   "metadata": {
    "id": "tR38knoO3uCE"
   },
   "source": [
    "# Sentiment analysis of product reviews with Keras Tensorflow\n",
    "\n",
    "**Project by**:\n",
    "Yuliana Yakimchuk"
   ]
  },
  {
   "cell_type": "markdown",
   "metadata": {
    "id": "Hp4nwEYbJRD2"
   },
   "source": [
    "### Table of Contents\n",
    "\n",
    "* [Part 1. Exploratory Analysis and Data Preparation](#part1)\n",
    "  * [Section 1.1 Exploratory Analysis](#section_1_1)\n",
    "  * [Section 1.2 Data Cleaning](#section_1_2)\n",
    "* [Part 2. Bidirectional LSTM](#part2)\n",
    "* [Part 3. BERT](#part3)\n",
    "* [Part 4. DistilBERT](#part4)\n",
    "* [Part 5 DistilBERT without class weight](#part5)\n",
    "* [Part 6 Conclusion](#part6)"
   ]
  },
  {
   "cell_type": "markdown",
   "metadata": {
    "id": "qBhnJfF9Kok4"
   },
   "source": [
    "### Dependencies"
   ]
  },
  {
   "cell_type": "code",
   "execution_count": null,
   "metadata": {
    "colab": {
     "base_uri": "https://localhost:8080/"
    },
    "executionInfo": {
     "elapsed": 1611,
     "status": "ok",
     "timestamp": 1638915386184,
     "user": {
      "displayName": "Christopher Eeles",
      "photoUrl": "https://lh3.googleusercontent.com/a/default-user=s64",
      "userId": "01017214060070388542"
     },
     "user_tz": 300
    },
    "id": "mD2esAO8K13-",
    "outputId": "b073e767-577a-421d-e19a-74090299b50c"
   },
   "outputs": [],
   "source": [
    "# Utilities\n",
    "import os\n",
    "import json\n",
    "import datetime\n",
    "\n",
    "# Data munging\n",
    "import pandas as pd\n",
    "import numpy as np\n",
    "np.random.seed(42)\n",
    "import tensorflow as tf\n",
    "from tensorflow import keras\n",
    "\n",
    "tf.random.set_seed(42) \n",
    "\n",
    "# Text processing\n",
    "import nltk\n",
    "from nltk.tokenize import word_tokenize\n",
    "from nltk.corpus import stopwords\n",
    "from nltk.stem import WordNetLemmatizer\n",
    "import re\n",
    "import string\n",
    "from tensorflow.keras.preprocessing.sequence import pad_sequences\n",
    "from tensorflow.keras.preprocessing.text import Tokenizer\n",
    "\n",
    "# Model\n",
    "from sklearn.model_selection import train_test_split\n",
    "from tensorflow.keras.models import Sequential\n",
    "from tensorflow.keras.layers import Embedding, LSTM, Dense, Bidirectional, Dropout\n",
    "from tensorflow.keras.callbacks import EarlyStopping, ModelCheckpoint\n",
    "import transformers\n",
    "\n",
    "import tensorflow_hub as hub\n",
    "#!pip install tensorflow-text\n",
    "import tensorflow_text as text\n",
    "from transformers import DistilBertTokenizerFast\n",
    "from transformers import TFDistilBertModel, DistilBertConfig\n",
    "\n",
    "\n",
    "# Plotting\n",
    "import matplotlib.pyplot as plt\n",
    "%matplotlib inline\n",
    "from sklearn.metrics import classification_report, confusion_matrix"
   ]
  },
  {
   "cell_type": "markdown",
   "metadata": {},
   "source": [
    "## Part 1 <a class=\"anchor\" id=\"part1\"></a>\n",
    "### Data Exploration and Preparation"
   ]
  },
  {
   "cell_type": "markdown",
   "metadata": {},
   "source": [
    "#### Section 1.1 <a class=\"anchor\" id=\"section_1_1\"></a>\n",
    "Data retrieval and exploration"
   ]
  },
  {
   "cell_type": "code",
   "execution_count": 98,
   "metadata": {
    "id": "7AeOheboLH7N"
   },
   "outputs": [],
   "source": [
    "import pandas as pd\n",
    "reviews_df = pd.read_json('Electronics_5.json', lines=True, nrows = 100000)\n",
    "#the original file contains over 6 million reviews. For the sake of computational manageability, \n",
    "#we'll only work with 100K reviews"
   ]
  },
  {
   "cell_type": "code",
   "execution_count": 99,
   "metadata": {},
   "outputs": [
    {
     "data": {
      "text/html": [
       "<div>\n",
       "<style scoped>\n",
       "    .dataframe tbody tr th:only-of-type {\n",
       "        vertical-align: middle;\n",
       "    }\n",
       "\n",
       "    .dataframe tbody tr th {\n",
       "        vertical-align: top;\n",
       "    }\n",
       "\n",
       "    .dataframe thead th {\n",
       "        text-align: right;\n",
       "    }\n",
       "</style>\n",
       "<table border=\"1\" class=\"dataframe\">\n",
       "  <thead>\n",
       "    <tr style=\"text-align: right;\">\n",
       "      <th></th>\n",
       "      <th>overall</th>\n",
       "      <th>vote</th>\n",
       "      <th>verified</th>\n",
       "      <th>reviewTime</th>\n",
       "      <th>reviewerID</th>\n",
       "      <th>asin</th>\n",
       "      <th>style</th>\n",
       "      <th>reviewerName</th>\n",
       "      <th>reviewText</th>\n",
       "      <th>summary</th>\n",
       "      <th>unixReviewTime</th>\n",
       "      <th>image</th>\n",
       "    </tr>\n",
       "  </thead>\n",
       "  <tbody>\n",
       "    <tr>\n",
       "      <th>99995</th>\n",
       "      <td>5</td>\n",
       "      <td>NaN</td>\n",
       "      <td>True</td>\n",
       "      <td>05 17, 2015</td>\n",
       "      <td>A339O9NAO8SFRE</td>\n",
       "      <td>B000068P8W</td>\n",
       "      <td>{'Style:': ' Original'}</td>\n",
       "      <td>Amazon Customer</td>\n",
       "      <td>excellent</td>\n",
       "      <td>Five Stars</td>\n",
       "      <td>1431820800</td>\n",
       "      <td>NaN</td>\n",
       "    </tr>\n",
       "    <tr>\n",
       "      <th>99996</th>\n",
       "      <td>5</td>\n",
       "      <td>NaN</td>\n",
       "      <td>True</td>\n",
       "      <td>05 11, 2015</td>\n",
       "      <td>A3JEHUCCSYPVXQ</td>\n",
       "      <td>B000068P8W</td>\n",
       "      <td>{'Style:': ' Original'}</td>\n",
       "      <td>paul ciborowski</td>\n",
       "      <td>This product is excellent I feel very safe usi...</td>\n",
       "      <td>Great Product Safe</td>\n",
       "      <td>1431302400</td>\n",
       "      <td>NaN</td>\n",
       "    </tr>\n",
       "    <tr>\n",
       "      <th>99997</th>\n",
       "      <td>5</td>\n",
       "      <td>NaN</td>\n",
       "      <td>True</td>\n",
       "      <td>05 9, 2015</td>\n",
       "      <td>A1HQYGA37GTH55</td>\n",
       "      <td>B000068P8W</td>\n",
       "      <td>NaN</td>\n",
       "      <td>Nick</td>\n",
       "      <td>It does an excellent job of cleaning.</td>\n",
       "      <td>Five Stars</td>\n",
       "      <td>1431129600</td>\n",
       "      <td>NaN</td>\n",
       "    </tr>\n",
       "    <tr>\n",
       "      <th>99998</th>\n",
       "      <td>5</td>\n",
       "      <td>NaN</td>\n",
       "      <td>True</td>\n",
       "      <td>04 29, 2015</td>\n",
       "      <td>A1VJWPJMCQN02J</td>\n",
       "      <td>B000068P8W</td>\n",
       "      <td>{'Style:': ' Original'}</td>\n",
       "      <td>jc-6929</td>\n",
       "      <td>Very efficient</td>\n",
       "      <td>Five Stars</td>\n",
       "      <td>1430265600</td>\n",
       "      <td>NaN</td>\n",
       "    </tr>\n",
       "    <tr>\n",
       "      <th>99999</th>\n",
       "      <td>5</td>\n",
       "      <td>NaN</td>\n",
       "      <td>True</td>\n",
       "      <td>04 13, 2015</td>\n",
       "      <td>A1QR1116WK6BZ6</td>\n",
       "      <td>B000068P8W</td>\n",
       "      <td>{'Style:': ' Original'}</td>\n",
       "      <td>The Deacon</td>\n",
       "      <td>It cleans and provides good results.  I am sat...</td>\n",
       "      <td>Five Stars</td>\n",
       "      <td>1428883200</td>\n",
       "      <td>NaN</td>\n",
       "    </tr>\n",
       "  </tbody>\n",
       "</table>\n",
       "</div>"
      ],
      "text/plain": [
       "       overall vote  verified   reviewTime      reviewerID        asin  \\\n",
       "99995        5  NaN      True  05 17, 2015  A339O9NAO8SFRE  B000068P8W   \n",
       "99996        5  NaN      True  05 11, 2015  A3JEHUCCSYPVXQ  B000068P8W   \n",
       "99997        5  NaN      True   05 9, 2015  A1HQYGA37GTH55  B000068P8W   \n",
       "99998        5  NaN      True  04 29, 2015  A1VJWPJMCQN02J  B000068P8W   \n",
       "99999        5  NaN      True  04 13, 2015  A1QR1116WK6BZ6  B000068P8W   \n",
       "\n",
       "                         style     reviewerName  \\\n",
       "99995  {'Style:': ' Original'}  Amazon Customer   \n",
       "99996  {'Style:': ' Original'}  paul ciborowski   \n",
       "99997                      NaN             Nick   \n",
       "99998  {'Style:': ' Original'}          jc-6929   \n",
       "99999  {'Style:': ' Original'}       The Deacon   \n",
       "\n",
       "                                              reviewText             summary  \\\n",
       "99995                                          excellent          Five Stars   \n",
       "99996  This product is excellent I feel very safe usi...  Great Product Safe   \n",
       "99997              It does an excellent job of cleaning.          Five Stars   \n",
       "99998                                     Very efficient          Five Stars   \n",
       "99999  It cleans and provides good results.  I am sat...          Five Stars   \n",
       "\n",
       "       unixReviewTime image  \n",
       "99995      1431820800   NaN  \n",
       "99996      1431302400   NaN  \n",
       "99997      1431129600   NaN  \n",
       "99998      1430265600   NaN  \n",
       "99999      1428883200   NaN  "
      ]
     },
     "execution_count": 99,
     "metadata": {},
     "output_type": "execute_result"
    }
   ],
   "source": [
    "reviews_df.tail()"
   ]
  },
  {
   "cell_type": "code",
   "execution_count": 100,
   "metadata": {},
   "outputs": [
    {
     "name": "stdout",
     "output_type": "stream",
     "text": [
      "<class 'pandas.core.frame.DataFrame'>\n",
      "RangeIndex: 100000 entries, 0 to 99999\n",
      "Data columns (total 12 columns):\n",
      " #   Column          Non-Null Count   Dtype \n",
      "---  ------          --------------   ----- \n",
      " 0   overall         100000 non-null  int64 \n",
      " 1   vote            17157 non-null   object\n",
      " 2   verified        100000 non-null  bool  \n",
      " 3   reviewTime      100000 non-null  object\n",
      " 4   reviewerID      100000 non-null  object\n",
      " 5   asin            100000 non-null  object\n",
      " 6   style           61750 non-null   object\n",
      " 7   reviewerName    99984 non-null   object\n",
      " 8   reviewText      99986 non-null   object\n",
      " 9   summary         99992 non-null   object\n",
      " 10  unixReviewTime  100000 non-null  int64 \n",
      " 11  image           1000 non-null    object\n",
      "dtypes: bool(1), int64(2), object(9)\n",
      "memory usage: 8.5+ MB\n"
     ]
    }
   ],
   "source": [
    "reviews_df.info()\n",
    "#we have lots of missing values in many categories, but we will only use reviewText and overall columns \n",
    "#for our sentiment analysis"
   ]
  },
  {
   "cell_type": "code",
   "execution_count": 101,
   "metadata": {},
   "outputs": [
    {
     "data": {
      "text/plain": [
       "array([[<AxesSubplot:title={'center':'overall'}>]], dtype=object)"
      ]
     },
     "execution_count": 101,
     "metadata": {},
     "output_type": "execute_result"
    },
    {
     "data": {
      "image/png": "[encoded data removed]",
      "text/plain": [
       "<Figure size 432x288 with 1 Axes>"
      ]
     },
     "metadata": {
      "needs_background": "light"
     },
     "output_type": "display_data"
    }
   ],
   "source": [
    "reviews_df.hist(column = 'overall')"
   ]
  },
  {
   "cell_type": "markdown",
   "metadata": {},
   "source": [
    "#### Based on the above histogram, we can see that our dataset is heavily imbalanced, with the majority of reviews being positive, and only a small portion of negative reviews. We will have to address it when we train our model"
   ]
  },
  {
   "cell_type": "markdown",
   "metadata": {
    "id": "LmXmnmn7jZQd"
   },
   "source": [
    "#### Section 1.2 <a class=\"anchor\" id=\"section_1_2\"></a>\n",
    "Data Cleaning"
   ]
  },
  {
   "cell_type": "code",
   "execution_count": 23,
   "metadata": {},
   "outputs": [
    {
     "data": {
      "text/html": [
       "<div>\n",
       "<style scoped>\n",
       "    .dataframe tbody tr th:only-of-type {\n",
       "        vertical-align: middle;\n",
       "    }\n",
       "\n",
       "    .dataframe tbody tr th {\n",
       "        vertical-align: top;\n",
       "    }\n",
       "\n",
       "    .dataframe thead th {\n",
       "        text-align: right;\n",
       "    }\n",
       "</style>\n",
       "<table border=\"1\" class=\"dataframe\">\n",
       "  <thead>\n",
       "    <tr style=\"text-align: right;\">\n",
       "      <th></th>\n",
       "      <th>overall</th>\n",
       "      <th>reviewText</th>\n",
       "    </tr>\n",
       "  </thead>\n",
       "  <tbody>\n",
       "    <tr>\n",
       "      <th>99995</th>\n",
       "      <td>5</td>\n",
       "      <td>excellent</td>\n",
       "    </tr>\n",
       "    <tr>\n",
       "      <th>99996</th>\n",
       "      <td>5</td>\n",
       "      <td>This product is excellent I feel very safe usi...</td>\n",
       "    </tr>\n",
       "    <tr>\n",
       "      <th>99997</th>\n",
       "      <td>5</td>\n",
       "      <td>It does an excellent job of cleaning.</td>\n",
       "    </tr>\n",
       "    <tr>\n",
       "      <th>99998</th>\n",
       "      <td>5</td>\n",
       "      <td>Very efficient</td>\n",
       "    </tr>\n",
       "    <tr>\n",
       "      <th>99999</th>\n",
       "      <td>5</td>\n",
       "      <td>It cleans and provides good results.  I am sat...</td>\n",
       "    </tr>\n",
       "  </tbody>\n",
       "</table>\n",
       "</div>"
      ],
      "text/plain": [
       "       overall                                         reviewText\n",
       "99995        5                                          excellent\n",
       "99996        5  This product is excellent I feel very safe usi...\n",
       "99997        5              It does an excellent job of cleaning.\n",
       "99998        5                                     Very efficient\n",
       "99999        5  It cleans and provides good results.  I am sat..."
      ]
     },
     "execution_count": 23,
     "metadata": {},
     "output_type": "execute_result"
    }
   ],
   "source": [
    "#first we should get rid of the features we will not be using for our analysis - i.e. everything except 'overall'\n",
    "#and reviewText:\n",
    "review_df = reviews_df[['overall','reviewText']]\n",
    "review_df.tail()"
   ]
  },
  {
   "cell_type": "code",
   "execution_count": 24,
   "metadata": {},
   "outputs": [
    {
     "name": "stdout",
     "output_type": "stream",
     "text": [
      "<class 'pandas.core.frame.DataFrame'>\n",
      "RangeIndex: 100000 entries, 0 to 99999\n",
      "Data columns (total 2 columns):\n",
      " #   Column      Non-Null Count   Dtype \n",
      "---  ------      --------------   ----- \n",
      " 0   overall     100000 non-null  int64 \n",
      " 1   reviewText  99986 non-null   object\n",
      "dtypes: int64(1), object(1)\n",
      "memory usage: 1.5+ MB\n"
     ]
    }
   ],
   "source": [
    "review_df.info()"
   ]
  },
  {
   "cell_type": "code",
   "execution_count": 25,
   "metadata": {},
   "outputs": [
    {
     "name": "stdout",
     "output_type": "stream",
     "text": [
      "<class 'pandas.core.frame.DataFrame'>\n",
      "Int64Index: 99986 entries, 0 to 99999\n",
      "Data columns (total 2 columns):\n",
      " #   Column      Non-Null Count  Dtype \n",
      "---  ------      --------------  ----- \n",
      " 0   overall     99986 non-null  int64 \n",
      " 1   reviewText  99986 non-null  object\n",
      "dtypes: int64(1), object(1)\n",
      "memory usage: 2.3+ MB\n"
     ]
    }
   ],
   "source": [
    "#we have some null values in review text, given the size of the dataset, we'll just remove these rows\n",
    "review_df = review_df.dropna()\n",
    "review_df.info()"
   ]
  },
  {
   "cell_type": "code",
   "execution_count": 28,
   "metadata": {},
   "outputs": [],
   "source": [
    "#for our usecase, we'll consider reviews with 1-3 stars as negative, and 4-5 stars as positive\n",
    "review_df['rating']= review_df['overall'].map(lambda x: 0 if x in [1,2,3] else 1 )"
   ]
  },
  {
   "cell_type": "code",
   "execution_count": 29,
   "metadata": {},
   "outputs": [
    {
     "data": {
      "text/html": [
       "<div>\n",
       "<style scoped>\n",
       "    .dataframe tbody tr th:only-of-type {\n",
       "        vertical-align: middle;\n",
       "    }\n",
       "\n",
       "    .dataframe tbody tr th {\n",
       "        vertical-align: top;\n",
       "    }\n",
       "\n",
       "    .dataframe thead th {\n",
       "        text-align: right;\n",
       "    }\n",
       "</style>\n",
       "<table border=\"1\" class=\"dataframe\">\n",
       "  <thead>\n",
       "    <tr style=\"text-align: right;\">\n",
       "      <th></th>\n",
       "      <th>overall</th>\n",
       "      <th>reviewText</th>\n",
       "      <th>rating</th>\n",
       "    </tr>\n",
       "  </thead>\n",
       "  <tbody>\n",
       "    <tr>\n",
       "      <th>0</th>\n",
       "      <td>5</td>\n",
       "      <td>This is the best novel I have read in 2 or 3 y...</td>\n",
       "      <td>1</td>\n",
       "    </tr>\n",
       "    <tr>\n",
       "      <th>1</th>\n",
       "      <td>3</td>\n",
       "      <td>Pages and pages of introspection, in the style...</td>\n",
       "      <td>0</td>\n",
       "    </tr>\n",
       "    <tr>\n",
       "      <th>2</th>\n",
       "      <td>5</td>\n",
       "      <td>This is the kind of novel to read when you hav...</td>\n",
       "      <td>1</td>\n",
       "    </tr>\n",
       "    <tr>\n",
       "      <th>3</th>\n",
       "      <td>5</td>\n",
       "      <td>What gorgeous language! What an incredible wri...</td>\n",
       "      <td>1</td>\n",
       "    </tr>\n",
       "    <tr>\n",
       "      <th>4</th>\n",
       "      <td>3</td>\n",
       "      <td>I was taken in by reviews that compared this b...</td>\n",
       "      <td>0</td>\n",
       "    </tr>\n",
       "    <tr>\n",
       "      <th>...</th>\n",
       "      <td>...</td>\n",
       "      <td>...</td>\n",
       "      <td>...</td>\n",
       "    </tr>\n",
       "    <tr>\n",
       "      <th>99995</th>\n",
       "      <td>5</td>\n",
       "      <td>excellent</td>\n",
       "      <td>1</td>\n",
       "    </tr>\n",
       "    <tr>\n",
       "      <th>99996</th>\n",
       "      <td>5</td>\n",
       "      <td>This product is excellent I feel very safe usi...</td>\n",
       "      <td>1</td>\n",
       "    </tr>\n",
       "    <tr>\n",
       "      <th>99997</th>\n",
       "      <td>5</td>\n",
       "      <td>It does an excellent job of cleaning.</td>\n",
       "      <td>1</td>\n",
       "    </tr>\n",
       "    <tr>\n",
       "      <th>99998</th>\n",
       "      <td>5</td>\n",
       "      <td>Very efficient</td>\n",
       "      <td>1</td>\n",
       "    </tr>\n",
       "    <tr>\n",
       "      <th>99999</th>\n",
       "      <td>5</td>\n",
       "      <td>It cleans and provides good results.  I am sat...</td>\n",
       "      <td>1</td>\n",
       "    </tr>\n",
       "  </tbody>\n",
       "</table>\n",
       "<p>99986 rows × 3 columns</p>\n",
       "</div>"
      ],
      "text/plain": [
       "       overall                                         reviewText  rating\n",
       "0            5  This is the best novel I have read in 2 or 3 y...       1\n",
       "1            3  Pages and pages of introspection, in the style...       0\n",
       "2            5  This is the kind of novel to read when you hav...       1\n",
       "3            5  What gorgeous language! What an incredible wri...       1\n",
       "4            3  I was taken in by reviews that compared this b...       0\n",
       "...        ...                                                ...     ...\n",
       "99995        5                                          excellent       1\n",
       "99996        5  This product is excellent I feel very safe usi...       1\n",
       "99997        5              It does an excellent job of cleaning.       1\n",
       "99998        5                                     Very efficient       1\n",
       "99999        5  It cleans and provides good results.  I am sat...       1\n",
       "\n",
       "[99986 rows x 3 columns]"
      ]
     },
     "execution_count": 29,
     "metadata": {},
     "output_type": "execute_result"
    }
   ],
   "source": [
    "review_df"
   ]
  },
  {
   "cell_type": "code",
   "execution_count": null,
   "metadata": {},
   "outputs": [],
   "source": [
    "#we will save this prepped dataset to a .csv file in case we need to load it again\n",
    "#review_df.to_csv('electronics_prepped.csv', index = False)\n",
    "#review_df = pd.read_csv('electronics_prepped.csv')"
   ]
  },
  {
   "cell_type": "code",
   "execution_count": 30,
   "metadata": {},
   "outputs": [
    {
     "data": {
      "text/plain": [
       "1    0.843038\n",
       "0    0.156962\n",
       "Name: rating, dtype: float64"
      ]
     },
     "execution_count": 30,
     "metadata": {},
     "output_type": "execute_result"
    }
   ],
   "source": [
    "review_df['rating'].value_counts(normalize = True)\n",
    "#we have 84% major class, adn 16% minor class. When creating a model, we can expect 84% accuracy \n",
    "#for a model that only predicts the major class"
   ]
  },
  {
   "cell_type": "code",
   "execution_count": 32,
   "metadata": {},
   "outputs": [
    {
     "data": {
      "text/html": [
       "<div>\n",
       "<style scoped>\n",
       "    .dataframe tbody tr th:only-of-type {\n",
       "        vertical-align: middle;\n",
       "    }\n",
       "\n",
       "    .dataframe tbody tr th {\n",
       "        vertical-align: top;\n",
       "    }\n",
       "\n",
       "    .dataframe thead th {\n",
       "        text-align: right;\n",
       "    }\n",
       "</style>\n",
       "<table border=\"1\" class=\"dataframe\">\n",
       "  <thead>\n",
       "    <tr style=\"text-align: right;\">\n",
       "      <th></th>\n",
       "      <th>reviewText</th>\n",
       "      <th>rating</th>\n",
       "    </tr>\n",
       "  </thead>\n",
       "  <tbody>\n",
       "    <tr>\n",
       "      <th>0</th>\n",
       "      <td>This is the best novel I have read in 2 or 3 y...</td>\n",
       "      <td>1</td>\n",
       "    </tr>\n",
       "    <tr>\n",
       "      <th>1</th>\n",
       "      <td>Pages and pages of introspection, in the style...</td>\n",
       "      <td>0</td>\n",
       "    </tr>\n",
       "    <tr>\n",
       "      <th>2</th>\n",
       "      <td>This is the kind of novel to read when you hav...</td>\n",
       "      <td>1</td>\n",
       "    </tr>\n",
       "    <tr>\n",
       "      <th>3</th>\n",
       "      <td>What gorgeous language! What an incredible wri...</td>\n",
       "      <td>1</td>\n",
       "    </tr>\n",
       "    <tr>\n",
       "      <th>4</th>\n",
       "      <td>I was taken in by reviews that compared this b...</td>\n",
       "      <td>0</td>\n",
       "    </tr>\n",
       "  </tbody>\n",
       "</table>\n",
       "</div>"
      ],
      "text/plain": [
       "                                          reviewText  rating\n",
       "0  This is the best novel I have read in 2 or 3 y...       1\n",
       "1  Pages and pages of introspection, in the style...       0\n",
       "2  This is the kind of novel to read when you hav...       1\n",
       "3  What gorgeous language! What an incredible wri...       1\n",
       "4  I was taken in by reviews that compared this b...       0"
      ]
     },
     "execution_count": 32,
     "metadata": {},
     "output_type": "execute_result"
    }
   ],
   "source": [
    "# We can drop the redundant \"overall\" feature now:\n",
    "review_df = review_df.drop(columns = ['overall'])\n",
    "review_df.head()"
   ]
  },
  {
   "cell_type": "markdown",
   "metadata": {},
   "source": [
    "## Part 2 <a class=\"anchor\" id=\"part2\"></a>\n",
    "### Bidirectional LSTM"
   ]
  },
  {
   "cell_type": "code",
   "execution_count": null,
   "metadata": {},
   "outputs": [],
   "source": [
    "#creating a multi-step NLP preprocessor for the base model\n",
    "class Preprocessor():\n",
    "     \n",
    "    def __init__(self):\n",
    "        return None\n",
    "    \n",
    "    def remove_special(self, sequence): #remove special characters and punctuation,excluding spaces\n",
    "        import re\n",
    "        import string\n",
    "        sequence = re.sub(r'[^A-Za-z0-9\\s]a', \"\", sequence)\n",
    "        sequence = sequence.translate(str.maketrans('','',string.punctuation))\n",
    "        return sequence\n",
    "    \n",
    "    def tokenize_lemmatize(self,sequence): #tokenize and lemmatize sequences\n",
    "        from nltk import word_tokenize          \n",
    "        from nltk.stem import WordNetLemmatizer\n",
    "        from nltk.corpus import stopwords\n",
    "        \n",
    "        tokens = word_tokenize(sequence.lower())\n",
    "        lemmatizer = WordNetLemmatizer()\n",
    "        stop_words = set([word for word in stopwords.words(\"english\") if word not in ['no','not']]) \n",
    "        #we don't want to remove negative words as they are important for understanding sentiment\n",
    "        \n",
    "        sequence = str()\n",
    "        for word in tokens:\n",
    "            if word not in stop_words:\n",
    "                word = lemmatizer.lemmatize(word)\n",
    "                sequence += f\" {word}\"\n",
    "        return sequence\n",
    "    \n",
    "    def __call__(self,sequence):   \n",
    "        sequence = self.remove_special(sequence)\n",
    "        sequence = self.tokenize_lemmatize(sequence)\n",
    "        return sequence"
   ]
  },
  {
   "cell_type": "code",
   "execution_count": 34,
   "metadata": {},
   "outputs": [],
   "source": [
    "#instantiate our class\n",
    "inst = Preprocessor()"
   ]
  },
  {
   "cell_type": "code",
   "execution_count": 116,
   "metadata": {},
   "outputs": [
    {
     "data": {
      "text/html": [
       "<div>\n",
       "<style scoped>\n",
       "    .dataframe tbody tr th:only-of-type {\n",
       "        vertical-align: middle;\n",
       "    }\n",
       "\n",
       "    .dataframe tbody tr th {\n",
       "        vertical-align: top;\n",
       "    }\n",
       "\n",
       "    .dataframe thead th {\n",
       "        text-align: right;\n",
       "    }\n",
       "</style>\n",
       "<table border=\"1\" class=\"dataframe\">\n",
       "  <thead>\n",
       "    <tr style=\"text-align: right;\">\n",
       "      <th></th>\n",
       "      <th>reviewText</th>\n",
       "      <th>rating</th>\n",
       "    </tr>\n",
       "  </thead>\n",
       "  <tbody>\n",
       "    <tr>\n",
       "      <th>0</th>\n",
       "      <td>This is the best novel I have read in 2 or 3 y...</td>\n",
       "      <td>1</td>\n",
       "    </tr>\n",
       "    <tr>\n",
       "      <th>1</th>\n",
       "      <td>Pages and pages of introspection, in the style...</td>\n",
       "      <td>0</td>\n",
       "    </tr>\n",
       "    <tr>\n",
       "      <th>2</th>\n",
       "      <td>This is the kind of novel to read when you hav...</td>\n",
       "      <td>1</td>\n",
       "    </tr>\n",
       "    <tr>\n",
       "      <th>3</th>\n",
       "      <td>What gorgeous language! What an incredible wri...</td>\n",
       "      <td>1</td>\n",
       "    </tr>\n",
       "    <tr>\n",
       "      <th>4</th>\n",
       "      <td>I was taken in by reviews that compared this b...</td>\n",
       "      <td>0</td>\n",
       "    </tr>\n",
       "    <tr>\n",
       "      <th>5</th>\n",
       "      <td>I read this probably 50 years ago in my youth ...</td>\n",
       "      <td>1</td>\n",
       "    </tr>\n",
       "    <tr>\n",
       "      <th>6</th>\n",
       "      <td>I read every Perry mason book voraciously. Fin...</td>\n",
       "      <td>1</td>\n",
       "    </tr>\n",
       "    <tr>\n",
       "      <th>7</th>\n",
       "      <td>I love this series of Bertha and Lamb..  Great...</td>\n",
       "      <td>1</td>\n",
       "    </tr>\n",
       "    <tr>\n",
       "      <th>8</th>\n",
       "      <td>Great read!</td>\n",
       "      <td>1</td>\n",
       "    </tr>\n",
       "    <tr>\n",
       "      <th>9</th>\n",
       "      <td>Crows Can't Count, A.A. Fair\\n\\nMr. Harry Shar...</td>\n",
       "      <td>1</td>\n",
       "    </tr>\n",
       "  </tbody>\n",
       "</table>\n",
       "</div>"
      ],
      "text/plain": [
       "                                          reviewText  rating\n",
       "0  This is the best novel I have read in 2 or 3 y...       1\n",
       "1  Pages and pages of introspection, in the style...       0\n",
       "2  This is the kind of novel to read when you hav...       1\n",
       "3  What gorgeous language! What an incredible wri...       1\n",
       "4  I was taken in by reviews that compared this b...       0\n",
       "5  I read this probably 50 years ago in my youth ...       1\n",
       "6  I read every Perry mason book voraciously. Fin...       1\n",
       "7  I love this series of Bertha and Lamb..  Great...       1\n",
       "8                                        Great read!       1\n",
       "9  Crows Can't Count, A.A. Fair\\n\\nMr. Harry Shar...       1"
      ]
     },
     "execution_count": 116,
     "metadata": {},
     "output_type": "execute_result"
    }
   ],
   "source": [
    "#try the functions on a subset of the original data as the process is computationally heavy\n",
    "copy=review_df[:10]\n",
    "copy"
   ]
  },
  {
   "cell_type": "code",
   "execution_count": 117,
   "metadata": {},
   "outputs": [
    {
     "name": "stderr",
     "output_type": "stream",
     "text": [
      "C:\\Users\\VR\\AppData\\Local\\Temp\\ipykernel_6164\\1003064821.py:1: SettingWithCopyWarning: \n",
      "A value is trying to be set on a copy of a slice from a DataFrame.\n",
      "Try using .loc[row_indexer,col_indexer] = value instead\n",
      "\n",
      "See the caveats in the documentation: https://pandas.pydata.org/pandas-docs/stable/user_guide/indexing.html#returning-a-view-versus-a-copy\n",
      "  copy['reviewText']=copy['reviewText'].apply(inst)\n"
     ]
    }
   ],
   "source": [
    "copy['reviewText']=copy['reviewText'].apply(inst)"
   ]
  },
  {
   "cell_type": "code",
   "execution_count": 118,
   "metadata": {},
   "outputs": [
    {
     "data": {
      "text/html": [
       "<div>\n",
       "<style scoped>\n",
       "    .dataframe tbody tr th:only-of-type {\n",
       "        vertical-align: middle;\n",
       "    }\n",
       "\n",
       "    .dataframe tbody tr th {\n",
       "        vertical-align: top;\n",
       "    }\n",
       "\n",
       "    .dataframe thead th {\n",
       "        text-align: right;\n",
       "    }\n",
       "</style>\n",
       "<table border=\"1\" class=\"dataframe\">\n",
       "  <thead>\n",
       "    <tr style=\"text-align: right;\">\n",
       "      <th></th>\n",
       "      <th>reviewText</th>\n",
       "      <th>rating</th>\n",
       "    </tr>\n",
       "  </thead>\n",
       "  <tbody>\n",
       "    <tr>\n",
       "      <th>0</th>\n",
       "      <td>best novel read 2 3 year everything fiction b...</td>\n",
       "      <td>1</td>\n",
       "    </tr>\n",
       "    <tr>\n",
       "      <th>1</th>\n",
       "      <td>page page introspection style writer like hen...</td>\n",
       "      <td>0</td>\n",
       "    </tr>\n",
       "    <tr>\n",
       "      <th>2</th>\n",
       "      <td>kind novel read time lose book day possibly w...</td>\n",
       "      <td>1</td>\n",
       "    </tr>\n",
       "    <tr>\n",
       "      <th>3</th>\n",
       "      <td>gorgeous language incredible writer last life...</td>\n",
       "      <td>1</td>\n",
       "    </tr>\n",
       "    <tr>\n",
       "      <th>4</th>\n",
       "      <td>taken review compared book leopard promised b...</td>\n",
       "      <td>0</td>\n",
       "    </tr>\n",
       "  </tbody>\n",
       "</table>\n",
       "</div>"
      ],
      "text/plain": [
       "                                          reviewText  rating\n",
       "0   best novel read 2 3 year everything fiction b...       1\n",
       "1   page page introspection style writer like hen...       0\n",
       "2   kind novel read time lose book day possibly w...       1\n",
       "3   gorgeous language incredible writer last life...       1\n",
       "4   taken review compared book leopard promised b...       0"
      ]
     },
     "execution_count": 118,
     "metadata": {},
     "output_type": "execute_result"
    }
   ],
   "source": [
    "copy.head()\n",
    "#seems like preprocessing worked well, we can apply changes to the whole df now"
   ]
  },
  {
   "cell_type": "code",
   "execution_count": 38,
   "metadata": {},
   "outputs": [],
   "source": [
    "df_LSTM = review_df"
   ]
  },
  {
   "cell_type": "code",
   "execution_count": 39,
   "metadata": {},
   "outputs": [
    {
     "name": "stdout",
     "output_type": "stream",
     "text": [
      "<class 'pandas.core.frame.DataFrame'>\n",
      "Int64Index: 99986 entries, 0 to 99999\n",
      "Data columns (total 2 columns):\n",
      " #   Column      Non-Null Count  Dtype \n",
      "---  ------      --------------  ----- \n",
      " 0   reviewText  99986 non-null  object\n",
      " 1   rating      99986 non-null  int64 \n",
      "dtypes: int64(1), object(1)\n",
      "memory usage: 2.3+ MB\n"
     ]
    }
   ],
   "source": [
    "df_LSTM.info()"
   ]
  },
  {
   "cell_type": "code",
   "execution_count": null,
   "metadata": {},
   "outputs": [],
   "source": [
    "#df_LSTM['reviewText'] = df_LSTM['reviewText'].apply(inst)"
   ]
  },
  {
   "cell_type": "code",
   "execution_count": 40,
   "metadata": {},
   "outputs": [],
   "source": [
    "#for saving computational resources if need to rerun notebook\n",
    "#df_LSTM.to_csv('df_LSTM_preprocessed.csv', index = False)\n",
    "df_LSTM = pd.read_csv('df_LSTM_preprocessed.csv')"
   ]
  },
  {
   "cell_type": "code",
   "execution_count": 41,
   "metadata": {},
   "outputs": [
    {
     "data": {
      "text/html": [
       "<div>\n",
       "<style scoped>\n",
       "    .dataframe tbody tr th:only-of-type {\n",
       "        vertical-align: middle;\n",
       "    }\n",
       "\n",
       "    .dataframe tbody tr th {\n",
       "        vertical-align: top;\n",
       "    }\n",
       "\n",
       "    .dataframe thead th {\n",
       "        text-align: right;\n",
       "    }\n",
       "</style>\n",
       "<table border=\"1\" class=\"dataframe\">\n",
       "  <thead>\n",
       "    <tr style=\"text-align: right;\">\n",
       "      <th></th>\n",
       "      <th>reviewText</th>\n",
       "      <th>rating</th>\n",
       "    </tr>\n",
       "  </thead>\n",
       "  <tbody>\n",
       "    <tr>\n",
       "      <th>0</th>\n",
       "      <td>best novel read 2 3 year everything fiction b...</td>\n",
       "      <td>1</td>\n",
       "    </tr>\n",
       "    <tr>\n",
       "      <th>1</th>\n",
       "      <td>page page introspection style writer like hen...</td>\n",
       "      <td>0</td>\n",
       "    </tr>\n",
       "    <tr>\n",
       "      <th>2</th>\n",
       "      <td>kind novel read time lose book day possibly w...</td>\n",
       "      <td>1</td>\n",
       "    </tr>\n",
       "    <tr>\n",
       "      <th>3</th>\n",
       "      <td>gorgeous language incredible writer last life...</td>\n",
       "      <td>1</td>\n",
       "    </tr>\n",
       "    <tr>\n",
       "      <th>4</th>\n",
       "      <td>taken review compared book leopard promised b...</td>\n",
       "      <td>0</td>\n",
       "    </tr>\n",
       "  </tbody>\n",
       "</table>\n",
       "</div>"
      ],
      "text/plain": [
       "                                          reviewText  rating\n",
       "0   best novel read 2 3 year everything fiction b...       1\n",
       "1   page page introspection style writer like hen...       0\n",
       "2   kind novel read time lose book day possibly w...       1\n",
       "3   gorgeous language incredible writer last life...       1\n",
       "4   taken review compared book leopard promised b...       0"
      ]
     },
     "execution_count": 41,
     "metadata": {},
     "output_type": "execute_result"
    }
   ],
   "source": [
    "df_LSTM.head()"
   ]
  },
  {
   "cell_type": "code",
   "execution_count": 42,
   "metadata": {},
   "outputs": [
    {
     "data": {
      "text/plain": [
       "{1: 84292, 0: 15694}"
      ]
     },
     "execution_count": 42,
     "metadata": {},
     "output_type": "execute_result"
    }
   ],
   "source": [
    "#calculate class weights\n",
    "class_total = dict(df_LSTM['rating'].value_counts())\n",
    "class_total"
   ]
  },
  {
   "cell_type": "code",
   "execution_count": 43,
   "metadata": {},
   "outputs": [
    {
     "data": {
      "text/plain": [
       "{1: 0.5930930574669008, 0: 3.1854848986873963}"
      ]
     },
     "execution_count": 43,
     "metadata": {},
     "output_type": "execute_result"
    }
   ],
   "source": [
    "total = 0\n",
    "for value in class_total.values():\n",
    "    total+=value\n",
    "\n",
    "class_weights={}\n",
    "for key in class_total.keys():\n",
    "    class_weight = total/(2*class_total[key])\n",
    "    class_weights[key] = class_weight\n",
    "\n",
    "class_weights"
   ]
  },
  {
   "cell_type": "code",
   "execution_count": 44,
   "metadata": {},
   "outputs": [
    {
     "name": "stdout",
     "output_type": "stream",
     "text": [
      "<class 'pandas.core.frame.DataFrame'>\n",
      "RangeIndex: 99986 entries, 0 to 99985\n",
      "Data columns (total 2 columns):\n",
      " #   Column      Non-Null Count  Dtype \n",
      "---  ------      --------------  ----- \n",
      " 0   reviewText  99820 non-null  object\n",
      " 1   rating      99986 non-null  int64 \n",
      "dtypes: int64(1), object(1)\n",
      "memory usage: 1.5+ MB\n"
     ]
    }
   ],
   "source": [
    "df_LSTM.info()"
   ]
  },
  {
   "cell_type": "code",
   "execution_count": 45,
   "metadata": {},
   "outputs": [
    {
     "name": "stdout",
     "output_type": "stream",
     "text": [
      "<class 'pandas.core.frame.DataFrame'>\n",
      "Int64Index: 99820 entries, 0 to 99985\n",
      "Data columns (total 2 columns):\n",
      " #   Column      Non-Null Count  Dtype \n",
      "---  ------      --------------  ----- \n",
      " 0   reviewText  99820 non-null  object\n",
      " 1   rating      99820 non-null  int64 \n",
      "dtypes: int64(1), object(1)\n",
      "memory usage: 2.3+ MB\n"
     ]
    }
   ],
   "source": [
    "df_LSTM.dropna(inplace = True)\n",
    "df_LSTM.info()"
   ]
  },
  {
   "cell_type": "code",
   "execution_count": 46,
   "metadata": {},
   "outputs": [],
   "source": [
    "#we'll use startified split as our data is imbalanced\n",
    "X_train,X_test,y_train, y_test = train_test_split(df_LSTM['reviewText'], df_LSTM['rating'], \n",
    "                                                  test_size = 0.2, random_state = 42, stratify = df_LSTM['rating'])"
   ]
  },
  {
   "cell_type": "code",
   "execution_count": 47,
   "metadata": {
    "scrolled": true
   },
   "outputs": [
    {
     "data": {
      "text/plain": [
       "36757     great polarizer much expensive polarizer anot...\n",
       "8438                nice surge protector use plug computer\n",
       "69650                 working good nice sound easy install\n",
       "56331     wonder winder work great three shop first one...\n",
       "11414     shipping quick packaging adequate product loc...\n",
       "                               ...                        \n",
       "86322     cant get excited cable decent quality work 20...\n",
       "35465     get job done bracelet not stretchy expecting ...\n",
       "71769     extremely compact easy use may need something...\n",
       "92240     4th digital camera certainly improved chose 7...\n",
       "14611     excellent sound comfortable fit great quality...\n",
       "Name: reviewText, Length: 19964, dtype: object"
      ]
     },
     "execution_count": 47,
     "metadata": {},
     "output_type": "execute_result"
    }
   ],
   "source": [
    "X_test"
   ]
  },
  {
   "cell_type": "code",
   "execution_count": 49,
   "metadata": {},
   "outputs": [],
   "source": [
    "max_len = 200\n",
    "tokenizer = Tokenizer(num_words=max_len, split=' ', lower = False) #well keep up to 200 words per review\n",
    "tokenizer.fit_on_texts(X_train)\n",
    "vocab_size = len(tokenizer.word_index) + 1"
   ]
  },
  {
   "cell_type": "code",
   "execution_count": 50,
   "metadata": {},
   "outputs": [
    {
     "data": {
      "text/plain": [
       "63696"
      ]
     },
     "execution_count": 50,
     "metadata": {},
     "output_type": "execute_result"
    }
   ],
   "source": [
    "vocab_size"
   ]
  },
  {
   "cell_type": "code",
   "execution_count": 51,
   "metadata": {},
   "outputs": [
    {
     "data": {
      "text/plain": [
       "(79856, 200)"
      ]
     },
     "execution_count": 51,
     "metadata": {},
     "output_type": "execute_result"
    }
   ],
   "source": [
    "#LSTM requires all inputs to be the same size. Since some reviews are smaller than 200 words, we need to pad \n",
    "#them to 200\n",
    "X_train_padded = pad_sequences(tokenizer.texts_to_sequences(X_train), maxlen = max_len)\n",
    "X_test_padded = pad_sequences(tokenizer.texts_to_sequences(X_test), maxlen = max_len)\n",
    "X_train_padded.shape"
   ]
  },
  {
   "cell_type": "code",
   "execution_count": 53,
   "metadata": {},
   "outputs": [
    {
     "data": {
      "text/plain": [
       "array([[  0,   0,   0, ...,  49, 106,  92],\n",
       "       [  0,   0,   0, ...,   0, 194,  52],\n",
       "       [  0,   0,   0, ...,  38,   5, 147],\n",
       "       ...,\n",
       "       [  0,   0,   0, ...,  13, 185,  88],\n",
       "       [  0,   0,   0, ...,  80,  79,   8],\n",
       "       [  0,   0,   0, ...,   7,  96,  44]])"
      ]
     },
     "execution_count": 53,
     "metadata": {},
     "output_type": "execute_result"
    }
   ],
   "source": [
    "X_train_padded\n",
    "#we can see lots of zeroes at teh beginnings of sequences, meaning padding worked"
   ]
  },
  {
   "cell_type": "code",
   "execution_count": 52,
   "metadata": {},
   "outputs": [],
   "source": [
    "#we'll use a bidirectional LSTM model as our baseline. LSTM because it can remember longer sequences than RNN. \n",
    "#Bidirectional as it can use future context, which ultimately leads to better performance on NLP tasks.\n",
    "#the following architecture was chosen after some hyperparameter tuning as a balance bw performance, \n",
    "#generalization and and computation. Dropout added to combat overfitting. The word embedding of 128 dimensions \n",
    "#should give us a reasonably meaningful word representations without being too intense computationally.\n",
    "\n",
    "base_model = Sequential([\n",
    "    Embedding(input_dim=vocab_size,output_dim = 128, input_length = max_len),\n",
    "    Bidirectional(LSTM(200, return_sequences=True, dropout = 0.2)), \n",
    "    Bidirectional(LSTM(100, dropout = 0.2)),\n",
    "    Dense(1, activation='sigmoid')\n",
    "])"
   ]
  },
  {
   "cell_type": "code",
   "execution_count": 54,
   "metadata": {},
   "outputs": [],
   "source": [
    "base_model.compile(loss='binary_crossentropy',optimizer='adam',metrics=['accuracy'])"
   ]
  },
  {
   "cell_type": "code",
   "execution_count": 55,
   "metadata": {},
   "outputs": [
    {
     "name": "stdout",
     "output_type": "stream",
     "text": [
      "Model: \"sequential\"\n",
      "_________________________________________________________________\n",
      " Layer (type)                Output Shape              Param #   \n",
      "=================================================================\n",
      " embedding (Embedding)       (None, 200, 128)          8153088   \n",
      "                                                                 \n",
      " bidirectional (Bidirectiona  (None, 200, 400)         526400    \n",
      " l)                                                              \n",
      "                                                                 \n",
      " bidirectional_1 (Bidirectio  (None, 200)              400800    \n",
      " nal)                                                            \n",
      "                                                                 \n",
      " dense_1 (Dense)             (None, 1)                 201       \n",
      "                                                                 \n",
      "=================================================================\n",
      "Total params: 9,080,489\n",
      "Trainable params: 9,080,489\n",
      "Non-trainable params: 0\n",
      "_________________________________________________________________\n"
     ]
    }
   ],
   "source": [
    "base_model.summary()"
   ]
  },
  {
   "cell_type": "code",
   "execution_count": 56,
   "metadata": {},
   "outputs": [],
   "source": [
    "batch_size = 64\n",
    "checkpoint_cb = ModelCheckpoint(\"LSTM_model.h5\", save_best_only = True)\n",
    "early_stop_cb = EarlyStopping(patience = 10, restore_best_weights = True)"
   ]
  },
  {
   "cell_type": "code",
   "execution_count": null,
   "metadata": {},
   "outputs": [],
   "source": [
    "#optional resetting of model weights for hyperparameter tuning\n",
    "def reset_weights(model,initializer = keras.initializers.he_normal):\n",
    "    initial_weights = model.get_weights()\n",
    "    new_weights = [(initializer()(w.shape)) for w in initial_weights]\n",
    "    model.set_weights(new_weights)\n",
    "#reset_weights(model)"
   ]
  },
  {
   "cell_type": "markdown",
   "metadata": {},
   "source": [
    "LSTM_hist = base_model.fit(X_train_padded, y_train, validation_split = 0.2, \n",
    "                      batch_size = batch_size, class_weight = class_weights,\n",
    "                      callbacks = [tensorboard_cb, checkpoint_cb, early_stop_cb], epochs = 100)"
   ]
  },
  {
   "cell_type": "code",
   "execution_count": 57,
   "metadata": {},
   "outputs": [],
   "source": [
    "#optional load model if notebook needs to be rerun\n",
    "\n",
    "base_model = keras.models.load_model(\"LSTM_model.h5\")"
   ]
  },
  {
   "cell_type": "code",
   "execution_count": 58,
   "metadata": {},
   "outputs": [
    {
     "name": "stdout",
     "output_type": "stream",
     "text": [
      "624/624 [==============================] - 17s 23ms/step - loss: 0.4350 - accuracy: 0.7979\n"
     ]
    },
    {
     "data": {
      "text/plain": [
       "[0.4350122809410095, 0.7978861927986145]"
      ]
     },
     "execution_count": 58,
     "metadata": {},
     "output_type": "execute_result"
    }
   ],
   "source": [
    "base_model.evaluate(X_test_padded, y_test)"
   ]
  },
  {
   "cell_type": "code",
   "execution_count": 59,
   "metadata": {},
   "outputs": [
    {
     "name": "stdout",
     "output_type": "stream",
     "text": [
      "624/624 [==============================] - 14s 21ms/step\n"
     ]
    }
   ],
   "source": [
    "y_prob = base_model.predict(X_test_padded)\n",
    "y_pred = np.round(y_prob)"
   ]
  },
  {
   "cell_type": "code",
   "execution_count": 60,
   "metadata": {},
   "outputs": [
    {
     "name": "stdout",
     "output_type": "stream",
     "text": [
      "              precision    recall  f1-score   support\n",
      "\n",
      "         0.0       0.72      0.42      0.53      5437\n",
      "         1.0       0.81      0.94      0.87     14527\n",
      "\n",
      "    accuracy                           0.80     19964\n",
      "   macro avg       0.77      0.68      0.70     19964\n",
      "weighted avg       0.79      0.80      0.78     19964\n",
      "\n"
     ]
    }
   ],
   "source": [
    "print(classification_report(y_pred,y_test, digits = 2))"
   ]
  },
  {
   "cell_type": "code",
   "execution_count": 61,
   "metadata": {},
   "outputs": [
    {
     "data": {
      "text/plain": [
       "Text(33.0, 0.5, 'Predicted Output')"
      ]
     },
     "execution_count": 61,
     "metadata": {},
     "output_type": "execute_result"
    },
    {
     "data": {
      "image/png": "[encoded data removed]",
      "text/plain": [
       "<Figure size 432x288 with 2 Axes>"
      ]
     },
     "metadata": {
      "needs_background": "light"
     },
     "output_type": "display_data"
    }
   ],
   "source": [
    "cm= confusion_matrix(y_pred, y_test)\n",
    "ax=sns.heatmap(cm, annot=True, fmt=\"0\", annot_kws={\"size\":10})\n",
    "plt.xlabel('Actual Output', fontsize=20)\n",
    "plt.ylabel('Predicted Output', fontsize=20)"
   ]
  },
  {
   "cell_type": "markdown",
   "metadata": {},
   "source": [
    "#### As is usually the case, our model performs better on the major class, but it still has predictive value for the minor class. In fact, precision is not terrible. Though recall could be better. We'll try to see the kinds of reviews it's struggling with"
   ]
  },
  {
   "cell_type": "code",
   "execution_count": 62,
   "metadata": {},
   "outputs": [],
   "source": [
    "ground_truth = np.expand_dims(np.array(y_test),axis = 1)"
   ]
  },
  {
   "cell_type": "code",
   "execution_count": 63,
   "metadata": {},
   "outputs": [
    {
     "data": {
      "text/plain": [
       "(19964, 1)"
      ]
     },
     "execution_count": 63,
     "metadata": {},
     "output_type": "execute_result"
    }
   ],
   "source": [
    "ground_truth.shape"
   ]
  },
  {
   "cell_type": "code",
   "execution_count": 64,
   "metadata": {
    "scrolled": true
   },
   "outputs": [
    {
     "data": {
      "text/plain": [
       "[(0, 'working good nice sound easy'),\n",
       " (1,\n",
       "  'product cable good quality work purchased used item look new cost new one much like take always good used item amazon problem back'),\n",
       " (0, 'get clear good perfect fit lot people lot light im'),\n",
       " (1,\n",
       "  'set headphone use monitor sound dont get since price right bass not high right also cable plug quite price good buy ear quite comfortable dont last far great no get'),\n",
       " (1,\n",
       "  'item read review first also good review think going first no dont know not go way case case work made sure way put case back'),\n",
       " (1, 'screen work better screen much better image monitor'),\n",
       " (0,\n",
       "  'made purchase could used another work fine no problem dont like need product'),\n",
       " (1, 'case'),\n",
       " (1,\n",
       "  'got best buy problem get little ive month not bad thing high review first time using not problem even issue not issue problem new doesnt needed get great bad say also look'),\n",
       " (1, 'good quality make would use light'),\n",
       " (0, 'switch work say plug say nice switch price'),\n",
       " (1, 'fit'),\n",
       " (1,\n",
       "  'no looking wire job expected cost get could time big box get something 5 day'),\n",
       " (1, '4 money'),\n",
       " (1, 'new tape'),\n",
       " (1, 'bag worth no great'),\n",
       " (1, 'ive used lens fast focus one im not work picture camera could not'),\n",
       " (1,\n",
       "  'bought lens work low light used not lot also one lot like way not wanted lens would fit camera lens'),\n",
       " (1,\n",
       "  'good cheap product one issue would get clear sound cheap price recommend'),\n",
       " (0, 'bought work well old quality one come cheap'),\n",
       " (1, 'good sound no work better see lot dont'),\n",
       " (0, 'easily hold speaker well amazon speaker'),\n",
       " (0,\n",
       "  'bought camera use box camera need not usb come work computer card adapter card read work great also camera little hold not camera lens button not use back camera side camera pretty easy put camera battery also take long time came two set made didnt look good player lot better didnt time camera better low light would get though'),\n",
       " (1, 'tape time tape time come'),\n",
       " (0, 'product make'),\n",
       " (1,\n",
       "  'dont know tape tape better tape dont tape case no work like tape not know people case not tape perfectly high tape fine also use high tape good well first thing tape quality tape buy not head cheap tape cheap tape like tape tape head not like tape better quality high tape not go tape go not know still make tape'),\n",
       " (0, 'cheap cord job long dont much go price'),\n",
       " (0, 'le good dvd good enough no problem cd not'),\n",
       " (1, 'find easy comfortable use however used time used something'),\n",
       " (1,\n",
       "  'easy set like use screen easily work filter ive looking screen different really youre one using computer see worth money'),\n",
       " (1,\n",
       "  'nice photo camera hold photo want photo keep im not sure long would last not really'),\n",
       " (0, 'month still not cost time cost no amazon dont 3 4 star'),\n",
       " (1,\n",
       "  'im not sure switch much switch used small device new computer much much quite'),\n",
       " (1,\n",
       "  'review product not hard get like work well back no time good price much'),\n",
       " (1, 'sound'),\n",
       " (1, 'head phone got music sound'),\n",
       " (1, 'hold mouse dvd fine'),\n",
       " (1, 'good headphone cost sound not really low make sound like old recommend'),\n",
       " (1, 'review 4 month use much clear sound not love'),\n",
       " (1,\n",
       "  'ive looking came one little review go say sound pretty good far button button dont work work fine say light like like audio'),\n",
       " (1,\n",
       "  'would not price excellent lens even focus not good enough time lens camera would lens'),\n",
       " (1, 'came one fit used end work fine would better get need one device'),\n",
       " (1,\n",
       "  'product one monitor also adapter used bad use 2 come card doesnt use much card far'),\n",
       " (0, 'work fine dont lot cable cord pretty much recommend little something'),\n",
       " (1,\n",
       "  'item purchased not power also device one one one unit right home device month no'),\n",
       " (1,\n",
       "  'tape not make noise put not like cheap unit ive using year price product many one year ive much price'),\n",
       " (1,\n",
       "  'youre using adapter ive dont work dont work well around end product could better know dont want lot dont work player get adapter ive adapter year keep going back sony adapter sound ive many different player sony always last much put player put audio headphone go problem want make sure case get something get really work cheap adapter really best player cd player take headphone'),\n",
       " (1, 'case case hold dvd one keep'),\n",
       " (0, 'product good would purchase think many'),\n",
       " (1,\n",
       "  'price sound great though im not dont take much easily im head big even no issue head may though'),\n",
       " (1,\n",
       "  'got mouse first came time mouse much mouse back even year price however found purchase mouse year small issue since bought mouse problem however mouse every mouse back plug back pretty far back cant see back new mouse great mouse price get 4 year go dont best mouse'),\n",
       " (0, 'case people dont use needed good thing needed 3'),\n",
       " (1,\n",
       "  'lens know getting lens no got no no like however ive found fast lens something would around using lens use music little around bit really little light dont want use also really small could using looking quality price found problem lens want lens find lens'),\n",
       " (1,\n",
       "  'tape nice not work well found sony side one side tape side right side tape side tape set put one tape side one tape tape back set without tape le tape need sure not light music not made box tape tape like side make tape tape not back tape tape people say not use long buy high quality tape better cheap no problem give cd hold music also always fast tape tape would not'),\n",
       " (1, 'not bad'),\n",
       " (0, 'phone dont use computer work use old even phone device'),\n",
       " (0, 'really hard use picture like clear use'),\n",
       " (0, 'bought case dont need time cant get well know need computer buy money'),\n",
       " (1,\n",
       "  'wanted phone work head head used head little use not expected sound good'),\n",
       " (1, 'small think every'),\n",
       " (1, 'cheap work'),\n",
       " (1,\n",
       "  'bad review item never bought im item could see no work still device like old would work sure enough without worked great even power work feature really im old still job'),\n",
       " (1, 'tape work would see no tape tape came new'),\n",
       " (1,\n",
       "  'digital since first really money worth camera not however perfect camera first old big also second really photo control power switch worked far better old power button problem new better battery new control not 3 digital worth one le money one buy better would say even would better getting camera size good quality'),\n",
       " (1,\n",
       "  'say plug use work fine used product year back unit case found head come not back bad'),\n",
       " (1,\n",
       "  'well 4 not 3 control make easy not camera easily sony camera little however cheap money one well worth'),\n",
       " (1,\n",
       "  'dont think find better get not bad quality item dont looking around amazon'),\n",
       " (1, 'product one good feature not hard go'),\n",
       " (1,\n",
       "  'two one get month year battery great battery month time battery without battery'),\n",
       " (1,\n",
       "  'bought battery 3 battery picture one battery come camera not buy another battery'),\n",
       " (1,\n",
       "  'used filter monitor screen perfect way filter filter filter screen also screen cant people cant see screen without side side put screen want screen'),\n",
       " (1,\n",
       "  'bought product no many time never good long didnt want like nice not every nice'),\n",
       " (1, 'seems work well find le end long day computer not perfect get'),\n",
       " (1,\n",
       "  'headphone not sound far come two different phone use youre going recommend not'),\n",
       " (1, 'plug right work no problem one side working sure card see'),\n",
       " (0, 'light ive filter quality image canon camera lens amazon money didnt'),\n",
       " (1,\n",
       "  'get another filter lens im back camera around head canon little back put back camera lens filter find lens filter never go without filter'),\n",
       " (1,\n",
       "  'using cant long one year really nice really comfortable never used home may use lot getting used new getting used first one one better 2 3 clear'),\n",
       " (0, ''),\n",
       " (1, 'not much'),\n",
       " (1,\n",
       "  'pretty easy got one phone no however read lot im going im old lot make enough'),\n",
       " (0,\n",
       "  'got power work seems well made work expected issue not product photo doesnt much would nice'),\n",
       " (1, 'work really well get time time bought 2 one get not using'),\n",
       " (1,\n",
       "  'quality case excellent one end however review made not music getting music back worked way make lot need thing dont get perfect always make think best also enough cd cd keep cd recommend case'),\n",
       " (0, ''),\n",
       " (1,\n",
       "  'bought radio back 2 worked great month end end getting getting speaker working amazon even though radio purchased another new one made sure working perfectly since first feature also speaker star radio issue'),\n",
       " (1,\n",
       "  'one product another one sound sony battery sound little better battery battery last long sony bought amazon work well need get adapter plug also amazon another review thing headphone one want ear need take back sony good job better unit speaker using first fast button make sound speaker unit tape would no sound would time not make noise fast tape button ear first unit something not far second unit no problem ive unit new way good quality digital computer speaker system sound player give sound headphone little digital didnt headphone first work fine'),\n",
       " (1, 'perfect light work feel head may music wire bit doesnt quite'),\n",
       " (1,\n",
       "  'got old 2 quality screen hard even read much better not high quality good image'),\n",
       " (1,\n",
       "  'used two different back computer needed didnt see plug end needed cable would work well long still wire case need wire'),\n",
       " (1, 'work came time 2'),\n",
       " (1, 'plug find amazon one recommend product got bad'),\n",
       " (1, 'pretty way would love see made old keep one one find use two side'),\n",
       " (0, ''),\n",
       " (1,\n",
       "  'could not know amazon much better job need would not use also amazon screen fast fast card enough use much read screen no light'),\n",
       " (1,\n",
       "  'not big not small right size battery card lens bag well camera camera lens side lens bag enough lens lens two one battery card put cable come nice right fit seems year year worth'),\n",
       " (1, 'screen bit work im'),\n",
       " (1,\n",
       "  'cant around case make case bit use may problem another case case hold one sound one much made case case far not problem not think going last long time case use case dvd keep use time'),\n",
       " (0, ''),\n",
       " (0,\n",
       "  'review good bad battery way could get day battery however 2 4 day usb computer cable like use usb cable one problem not usb cable small worked well thing no without problem also no problem computer not using usb cable two day far good one could battery well not use work like read fast since not much clear say light quite comfortable still easy not problem use button side not big feature card well not first time using going well would want hold want work fast best get small end 2 3 year not battery even could without another computer feature also give not much not problem would want first use no power long like far see without getting well last since read computer read make look sure better going read well ive enough going read not would'),\n",
       " (1,\n",
       "  'not bad used product high quality product no ive used sony headphone quality sound'),\n",
       " (1, 'could im'),\n",
       " (1,\n",
       "  'ive always high headphone speaker quality headphone music quality way good feel comfortable bass not happy say headphone come not sound like pair high end pair sound like cost lot low price amazon great quality sound say like speaker sound better first time put cd player volume ear'),\n",
       " (0,\n",
       "  'sony headphone review back amazon read review really got even though sound much better bass still hard bass still ive never pair im much sound speaker im really looking sound product im not even sure volume however quite comfortable long quality feature would look like 5 best sound 3 bass 2 4 3 cost would keep using find something better youre really looking bass sound clear high want youre looking use sound right'),\n",
       " (1, 'work one though'),\n",
       " (1,\n",
       "  'purchased lens use picture come doesnt really make shot still enough not bit see first shot lens high looking best lens dont big star'),\n",
       " (1, 'however dont like long cord didnt give 5 star'),\n",
       " (1, 'really see end'),\n",
       " (1, 'cant since doesnt power work review get one working lot'),\n",
       " (1,\n",
       "  'not bad device price great small use would great not back even would something small not best much'),\n",
       " (1, 'filter work well filter didnt purchase lens going use'),\n",
       " (1, 'say feature lens not want lens'),\n",
       " (1,\n",
       "  'ive 4 working best way hold getting used found easy easy focus clear easy use clear use look work well im not looking im see think never size image lens size power dont want go get size time le im not happy lens size image much image lot thing dont like using like even'),\n",
       " (1, 'lens not could well'),\n",
       " (1, 'used item year think last'),\n",
       " (0, ''),\n",
       " (1,\n",
       "  'tv work great picture no quality however sound like lot really tv didnt cable could put back tv cable around tv cable want getting'),\n",
       " (0,\n",
       "  'cant say im love little ear bit want ear people star would work fine people ear'),\n",
       " (1,\n",
       "  'bought dvd player another new one work fine no say one thing dvd not tape even though dvd picture cheap price nice way new'),\n",
       " (1,\n",
       "  'filter not people not see tape keep monitor enough price could find got 3 day product'),\n",
       " (1, 'needed headphone not want lot money not great still work'),\n",
       " (1, 'thing not put issue also case'),\n",
       " (0,\n",
       "  'still headphone not sure price purchased bought many pretty much one need one sound low end device'),\n",
       " (1,\n",
       "  'sound great price cant 5 star speaker quality one star not no hold not issue one two not'),\n",
       " (1, 'ear headphone not well best found every audio'),\n",
       " (1, 'work get job little volume not well would'),\n",
       " (1, 'cost cable get tv fit not sony tv'),\n",
       " (0,\n",
       "  'bought worked used home use around noise one time another dont want music enough'),\n",
       " (1, 'quite'),\n",
       " (1,\n",
       "  'use work fine problem time say quality picture far good though dont like nice cable use would not audio wire'),\n",
       " (1,\n",
       "  'far feel using speaker cable monitor dont get much noise pretty good also work cable would not recommend using cable not using wire two thing great around dont last long'),\n",
       " (0,\n",
       "  'well sony headphone keep going use got music one back high quality comfortable nice bass love cord high first set headphone 2 day 4 headphone one since nice headphone right bass much better much volume however volume high music high music may not think back way music dvd side ear quite not cord thing found not sony get feel ear may issue purchased great recommend amazon'),\n",
       " (0,\n",
       "  'product say camera not not work camera no work camera without using also purchase like work great nice camera'),\n",
       " (1, 'cable cheap'),\n",
       " (1, 'work hold cant hard time want cd hold want'),\n",
       " (1,\n",
       "  'dont pretty cheap use one thing problem make little even not may want want use'),\n",
       " (0,\n",
       "  'ive used say im much one thing unit hard year still doesnt cant say ive also quite find ive unit keep also time ive found unit also quality ive also using never ive found easy use though feature much also time quality find quality low want use best quality time getting product work feature year new product'),\n",
       " (1,\n",
       "  'good nice lens little lens good not good like camera like get focus little small image problem good not great little get lens'),\n",
       " (1, 'cant say bad unit not unit great'),\n",
       " (0,\n",
       "  'nice sound nice product headphone little small im dont big head get bit little le good'),\n",
       " (1,\n",
       "  'could not see way could around high find way got back day buy last month last used made long side without would much even though battery ive used even battery 2 would nice able not 3 sure unit unit many take long time well unit get use also purchased amazon'),\n",
       " (0, 'work cable small would purchase quality time'),\n",
       " (1,\n",
       "  'lot money digital camera another quality lens really want another filter well would dont quality come filter would price high not buy low cost filter lens well filter filter not quality used filter good digital filter lens clear look many photo filter many digital found no no filter lens time filter photo lens seems lens light since canon feature see picture going look like 3 see picture found way shot however recommend filter not recommend low cost filter high quality lens money filter not much filter used lens many quality filter lens may money looking picture however looking great lens cant go filter filter shot light may issue quality 4 4 5'),\n",
       " (1, 'cable plug hard'),\n",
       " (1, 'bag get'),\n",
       " (1,\n",
       "  'think around much day make something back bag not well made fit could also hold another lens also like computer cord lens make feel good purchase something price would feel good'),\n",
       " (0,\n",
       "  'work expected good purchase make sure time needed bought adapter made work'),\n",
       " (0, 'wanted monitor would well price unit job'),\n",
       " (1, 'use cable plug right headphone audio player even work fine'),\n",
       " (1, 'thing cant really way use use canon cant like would set control'),\n",
       " (0,\n",
       "  'power not power really work no always high quality power no power cant picture quality cant like feature plug great no right plug also like 2 plug fit feature worth power 2 year thing'),\n",
       " (1,\n",
       "  'headphone sound like may not know like nice high low not get ive many headphone ive come money sound used 5 not bass not enough power really well love headphone find better money cord find way every time cord make cord long side easy ear fit ear head dont much head time comfortable also like adapter ive little thing way phone make bag sony dont im going get another pair case'),\n",
       " (0,\n",
       "  'product fit perfectly monitor not not amazon much side really work 2 side 3 fit perfectly monitor monitor people looking side side not 2 find monitor still little'),\n",
       " (0, 'sound quality headphone used better headphone come thing say cd player'),\n",
       " (0, 'really didnt enough small good cable like power cable make'),\n",
       " (0, 'got quality since audio system quality read best one think something'),\n",
       " (0, 'great item'),\n",
       " (1, 'work great issue cord unit cant get tv like power may better'),\n",
       " (1,\n",
       "  'bought noise use make control volume without switch work fine cable could'),\n",
       " (1,\n",
       "  'first love product great quality money give one star price quality cant sound quality excellent cable quality seems end make noise not fit product not fit far easy audio headphone end cable bought cord year old radio old one still much fit old never go around headphone no seems not quite first product would back im plug feel like way made feel like could dont cable cant'),\n",
       " (1, 'sound system'),\n",
       " (1, 'cheap work'),\n",
       " (0, 'headphone ive ear fast'),\n",
       " (1, 'not time go buy one'),\n",
       " (0, 'work thing good far not lens quite well'),\n",
       " (0, 'right plug plug year still working'),\n",
       " (0, 'price ive cable right cheap one cable bought dont even cable fine'),\n",
       " (1, 'product easy use even work fine two phone worked'),\n",
       " (1, 'unit high quality no audio quality bit expected though ive used'),\n",
       " (1,\n",
       "  'purchased filter little month work well screen easy put monitor screen not screen come small clear put monitor hold screen filter doesnt screen use side good job monitor side one see monitor monitor time see best found though bit no'),\n",
       " (1, 'tape monitor fit not really needed screen im happy'),\n",
       " (1, 'product time day use'),\n",
       " (1, 'right control get'),\n",
       " (1, 'ear day end ear tv phone best used good music bass'),\n",
       " (1,\n",
       "  'far best headphone low bass sound good expensive headphone like great bass way problem since lot bass like month year would bass cheap good dont another good bass'),\n",
       " (1,\n",
       "  'end found didnt cable nice much needed around time could end like seems im thing around get find something not give star'),\n",
       " (1, 'not come case lens could better fit'),\n",
       " (1,\n",
       "  'end lens put sound would think end lens cheap lens not not put well even cheap lens good bit money lens'),\n",
       " (1,\n",
       "  'ive looking far headphone music no however bass sound sound sound audio comfortable noise'),\n",
       " (1,\n",
       "  'perfect old device one new tv work fine feel fit product not low day little button need hold button use no'),\n",
       " (1, 'first really job im'),\n",
       " (1, 'good product would better could use button time without using button'),\n",
       " (0,\n",
       "  'no headphone excellent sound sound good use sound headphone far sound quality give 5 star also like adapter got star issue headphone really dont like dont want dont see need headphone like using also size way doesnt every time put size make feel cheap hold time ive another star year use one headphone go plug get back price'),\n",
       " (1, 'lens work something even lens'),\n",
       " (1, 'month cant much product good'),\n",
       " (1, 'cost tape also sound better'),\n",
       " (0, ''),\n",
       " (1,\n",
       "  'still far price set computer speaker price computer price price got still good home set computer home sound great many well speaker computer control sound never speaker set control mouse im sure power never going speaker headphone keep better may sound like lot really power speaker put lot time computer audio want speaker sound quality excellent lot getting headphone quality sound set ear speaker 4 low right even getting better speaker system doesnt get speaker home 3 time cost back home know quality old keep get come speaker long really right could put better computer headphone review bass volume used could see like set dont need going issue see 5 star no thing get 2 year really dont bought issue big take really dont review first le month around many always end'),\n",
       " (1,\n",
       "  'work excellent one however make noise thing something one tape also purchased adapter thing one'),\n",
       " (0,\n",
       "  'headphone sound much better bass better sound also comfortable sound control many get'),\n",
       " (1,\n",
       "  'like bought didnt know price would high le going amazon cd bought great job also high quality headphone could'),\n",
       " (1,\n",
       "  'purchased player problem music player two problem player would music player music player 2 player player problem player new one card new player found problem still new player not new player music player also go player music big player however dont problem happy music small headphone came player easily headphone use set work fine cheap easy way music want sound quality quite good player many player still small side good no need keep 2 battery go make sure cant new battery case nice come player player good player want new music player want cheap price good sound quality problem'),\n",
       " (1, 'work got didnt cable using speaker'),\n",
       " (1,\n",
       "  'old using cable make look much better problem know people cable would work doesnt'),\n",
       " (1, 'dont cable cable buy cheap find end'),\n",
       " (0,\n",
       "  'lens bag fit didnt lens fit camera lens excellent lens go item fit little even lens go something'),\n",
       " (0,\n",
       "  'like work small box work without issue would buy quality work without bought 4 2'),\n",
       " (1, 'month no problem bass really really not happy unit'),\n",
       " (1,\n",
       "  'would one great camera worked really like got new one make photo time really read would not bought didnt think could much one focus image work without system image without need want camera not need another year new would'),\n",
       " (1,\n",
       "  'get buy expensive cable one made monitor long cable monitor work different cable got star like working new monitor last year star product need quality'),\n",
       " (0, 'quality camera take make even better camera buy'),\n",
       " (1, 'cheap end hard dont get dont plug'),\n",
       " (0, 'work fine computer monitor not issue'),\n",
       " (1, 'work fine radio give pretty good cant use wire'),\n",
       " (1, 'thing hard'),\n",
       " (0,\n",
       "  'new computer case high purchase well even noise home found case case power keep'),\n",
       " (1, 'pair speaker seems better speaker not speaker made speaker'),\n",
       " (0, 'good'),\n",
       " (0, ''),\n",
       " (1,\n",
       "  'cant go headphone bass not bass sure better headphone end dont headphone around cord going get much better sound sony headphone pair ear not headphone not enough power enough much sound'),\n",
       " (0, 'box 5 cable no bought also cord bit really know'),\n",
       " (1,\n",
       "  'purchased used canon little expensive fit not something good enough product better find right new camera best'),\n",
       " (1,\n",
       "  'first sound bought pair since noise great sound however didnt think would big one doesnt much quite comfortable dont give like size side head doesnt great could little could go little would perfect'),\n",
       " (0,\n",
       "  'work well enough price not much issue getting clear picture bought work well enough'),\n",
       " (1, 'one'),\n",
       " (1, 'review cable doesnt work tv would cable work back tv say not may'),\n",
       " (1, 'purchased keep system would working first found usb'),\n",
       " (1,\n",
       "  'headphone not headphone pair used computer well worth price quite comfortable ear day long think much bass find clear sound low around headphone found little put small month could used le always think no volume wire wire ear easy sound ear looking'),\n",
       " (1, 'got two day right time put right monitor big plug speaker good long'),\n",
       " (1,\n",
       "  'not quality came 5 pair headphone cant go noise headphone quite bit headphone fit little small 5'),\n",
       " (0,\n",
       "  'bought thing month used lot im good device like find one take system radio never get clear one little volume thing like button'),\n",
       " (1, 'set make work easy way looking plug two two use not work doesnt'),\n",
       " (0, 'good product not issue need take computer'),\n",
       " (1,\n",
       "  'two light wanted come since side one would not enough one side second light'),\n",
       " (1,\n",
       "  'bag quality thing little bit item however recommend small lens small item'),\n",
       " (1,\n",
       "  '5 star bag well made low price amazon however not much camera cant fit camera lens 2 screen way fit much better lot bought doesnt recommend fit perfectly lens like old case used fit camera go easily battery lens battery really want camera expensive right camera camera like canon digital small'),\n",
       " (1, 'dont make cheap think cheap expensive power not worth much'),\n",
       " (1, 'power great cant even though not easily back come like hold like'),\n",
       " (1,\n",
       "  'bought one use work home go always problem headphone never found comfortable headphone 2 head would make think comfortable sound quality good use 2 year'),\n",
       " (1, 'not one issue bought got ive read bad dont issue keep not'),\n",
       " (1,\n",
       "  'price 5 star cost no 4 star bought first though purchased use use lens small really price want purchase lens lens ive really got'),\n",
       " (1,\n",
       "  'say price good unit use great purchase two may not though wanted since made two issue head not bad thing however use size unit use set problem big 2 sure cant use radio unit cable adapter unit quite bit keep light small use good work enough feel adapter not light another item keep much want use'),\n",
       " (1,\n",
       "  'ive used since first came way way back 5 3 one 2 nice one one new one put come every new came get another second use day day cant see no not good even year bit make may think thing im day little thing get not problem see every every review no make found great little good issue one unit without would never know day want get still better keep look work better good go still best'),\n",
       " (0,\n",
       "  'sound going 2 not audio plug im 2 bought ive headphone go well far headphone ear ear side head doesnt head cord really not long well great money recommend'),\n",
       " (0, 'mouse mouse'),\n",
       " (1, 'item fine easily not doesnt button like cable'),\n",
       " (1, 'le'),\n",
       " (1,\n",
       "  'worked great first day working take battery every button second button would didnt worked fine not much got good found take battery using low problem'),\n",
       " (1,\n",
       "  'lens however get youre camera lens big way using last im image quality really make shot end many shot would not nice going enough set also like focus lens work fine lens camera low end not youre lens youre not use getting lens go one sure cost worth'),\n",
       " (0, 'lens'),\n",
       " (1, 'one computer small another one power'),\n",
       " (1,\n",
       "  'really device really well one thing come device really not around device 4 make new use keep size need device'),\n",
       " (1, 'cant much need 3'),\n",
       " (1,\n",
       "  'purchased cable issue would say though issue not cable find purchased new different would recommend cable also look lot better phone lot'),\n",
       " (1, 'product not wanted one item no problem new one not get'),\n",
       " (0, 'pretty good filter not still work fine fit no problem'),\n",
       " (1, 'come excellent cant not'),\n",
       " (0, 'good around lens little bit good buy price'),\n",
       " (1, 'set'),\n",
       " (1,\n",
       "  'really looking really doesnt make much little bit make look like like second even day filter could go second two filter want take long day really hard look one youre youre using one lot would really recommend filter lot look im going buy'),\n",
       " (1,\n",
       "  'work system not well high need get got another amazon device work well also found much hold quite'),\n",
       " (1, 'cheap sound money not last year two dont take many time price worth'),\n",
       " (1,\n",
       "  'buy pair love music cord long two pair cord got something work come cord around doesnt work'),\n",
       " (0, 'item great'),\n",
       " (1, 'used different ear year work fine ear comfortable'),\n",
       " (1,\n",
       "  'ive around cable would not cable one amazon bought different lot use cable every day ive not issue cable fit need'),\n",
       " (1,\n",
       "  'good need read computer hard time back right would something like new purchase'),\n",
       " (1,\n",
       "  'got radio radio expensive even right radio never one fine unit even well even better long able time buy good'),\n",
       " (0, 'bought 4 music ive easily im not sure would buy no case ive got way'),\n",
       " (1, 'im really using picture ive not using'),\n",
       " (1,\n",
       "  'love monitor one switch way youre ive tape dont buy tape amazon one would button control device easy set seems work well'),\n",
       " (1, 'not bad doesnt'),\n",
       " (1,\n",
       "  'filter getting dont buy worth price filter much better dont know expensive filter much one better well'),\n",
       " (1,\n",
       "  'radio not well radio give radio much better speaker good ive not problem would recommend'),\n",
       " (1, 'one'),\n",
       " (0, 'got one work used device no cant cant quality great though'),\n",
       " (1, 'sound quality good audio time price use work way'),\n",
       " (1,\n",
       "  'headphone not comfortable no long 5 time time one would cord fine player needed cord home didnt sound'),\n",
       " (1,\n",
       "  'cable work canon audio seems little not sure cable not not sound card computer no'),\n",
       " (0, 'like quality first pair pair really like use'),\n",
       " (0, 'good dvd need need find product dvd price still high'),\n",
       " (1, '3 work great not like dont im not like work'),\n",
       " (0, 'great device device plug use 4'),\n",
       " (0,\n",
       "  'feel comfortable long time cord long nice dont feel feel little high not clear work well price using work'),\n",
       " (1,\n",
       "  'using one home phone old cheap excellent sound quality day time control feature volume volume good looking not long cable look like would expected better cost phone last happy amazon see little no better product use'),\n",
       " (1, 'get job side power'),\n",
       " (1, 'side work really well long'),\n",
       " (1, 'end'),\n",
       " (1, 'bought used camera not happy got price'),\n",
       " (1, 'cheap get sound clear bit'),\n",
       " (0,\n",
       "  'lens worth used lens well like much better image quality good focus think'),\n",
       " (1,\n",
       "  'got job came not best though box didnt box small long good work fine though'),\n",
       " (1, 'audio no'),\n",
       " (1, 'use'),\n",
       " (1, 'speaker fit'),\n",
       " (0, 'headphone without much use'),\n",
       " (0, 'worked great 3 month'),\n",
       " (1, 'phone usb problem usb phone cable problem phone time'),\n",
       " (0,\n",
       "  'bought speaker using little speaker look great really bass size though month speaker not issue used would star sound'),\n",
       " (1, 'great however image get really'),\n",
       " (1,\n",
       "  'lot sound quality 3 people well could put got sound could find better one bit money good no battery easy time no much battery working feature'),\n",
       " (1, 'photo really come not'),\n",
       " (1, 'keep noise'),\n",
       " (1,\n",
       "  'expected cable long enough item keep system going item not every not really something would star'),\n",
       " (1, 'fine like never needed'),\n",
       " (0, ''),\n",
       " (1, 'using product since many power still quality not never product'),\n",
       " (1, 'box without device many could not box problem'),\n",
       " (0,\n",
       "  'different camera look picture purchased camera image camera review every one go every shot lens see always see found canon home picture worth say great camera look picture worth worth dont take one'),\n",
       " (1, 'work cheap picture cable cable one star picture'),\n",
       " (1, 'item think also buy'),\n",
       " (1, 'fit'),\n",
       " (0, 'use around battery'),\n",
       " (1, 'bought no'),\n",
       " (1,\n",
       "  'nice computer time fine not great even better one see much much use getting love back buy first day no way go back using mouse perfect product like ive never found better mouse amazon also review mouse give say thing know'),\n",
       " (1, 'good not sure fit'),\n",
       " (1, 'tape second able use digital'),\n",
       " (1, 'really take old one plug one no no easy'),\n",
       " (1, 'used screen see light not'),\n",
       " (1, 'cable work feature keep end thing not make cable hard use cable dont'),\n",
       " (1, 'item not best quality get work well month using no problem'),\n",
       " (1,\n",
       "  'never best use ive used mouse year come use used new find new one worth im bought two year still around 2 one home one using year well box day computer work day home never problem never problem computer even take one use home without even use find far mouse even cant work well well easily use lot may bit not using using need use may not need look need one even best get didnt im need new one cost even find one put time not like much not even'),\n",
       " (0, 'work computer bought use'),\n",
       " (1,\n",
       "  'lens no see little money filter another light even expensive filter take problem pretty people'),\n",
       " (1,\n",
       "  'ear headphone set perfect no ear music perfectly sound back head still get quality sound also size come no ear sound ear pair quality headphone'),\n",
       " (1, 'filter fit easily camera easily also like small size case'),\n",
       " (1,\n",
       "  'dont usb adapter use another usb go device want cord pretty pretty good adapter using adapter'),\n",
       " (1,\n",
       "  'product much still great unit come two one another around cord seems bought cord another think unit would work better one cord year old use no battery'),\n",
       " (0, ''),\n",
       " (1, 'bought used never always got'),\n",
       " (0, 'another one use keep right like'),\n",
       " (1,\n",
       "  'year back every time box wire got not time new new new wire easy get box'),\n",
       " (1,\n",
       "  'purchased product feature device doesnt not well didnt work 4 5 price second one purchased 3 year old needed'),\n",
       " (0,\n",
       "  'review monitor enough much monitor dont problem year love month purchase well monitor work ive need monitor case monitor not get cable second plug back using power switch no different card issue card made sure getting first cable two even much issue high computer computer still go power computer around mouse monitor not time got nice month love problem monitor im not going put monitor quality issue'),\n",
       " (0,\n",
       "  'first far good set come system item 4 cd battery make sure unit youre unit still way take find cant no button go im sure lot get first people'),\n",
       " (1,\n",
       "  'cant ear ear small great dont even im small light enough around every day'),\n",
       " (1, 'purchased cable not come one one worked fine used 2 month no problem'),\n",
       " (1, 'product make didnt back'),\n",
       " (1,\n",
       "  'purchased 2 tv think really nice another one put sound look really great however not great put tape hold'),\n",
       " (1,\n",
       "  'item star bad review worked know use 5 star way use need phone plug small give power tv not phone time phone device 2 one put phone not device tv dont phone tv time phone work without using know work put product pretty not'),\n",
       " (1,\n",
       "  'first noise headphone comfortable battery wire headphone feel light head no sound like sony price long battery cheap got people ear wire make wire long may not high music get headphone going month review'),\n",
       " (1,\n",
       "  'one problem using phone way using cable make purchased day know better never cable'),\n",
       " (1,\n",
       "  'used camera since take photo job no camera one best need photo camera 2 work even could not get 3 camera easy use big button picture bought camera worked work year never used camera easy use one use one product low camera not always give good head shot always come ive photo home look like picture light like star light dont buy doesnt good photo great camera need take picture right get product fast work camera always battery work fast ive never get use dont know camera lot better use home'),\n",
       " (1, 'two cd far product cost new cd see last'),\n",
       " (0, ''),\n",
       " (1,\n",
       "  'good headphone ive using 4 year problem good sound quality light cord no bass like bass long cord time really nice time'),\n",
       " (1, 'bit radio work product work purchased second one'),\n",
       " (1, 'not like amazon way long nice product small'),\n",
       " (0, ''),\n",
       " (0, 'worked expected dont look little work'),\n",
       " (1,\n",
       "  'purchase item review recommend product sound price cord thing know product people able put headphone around head back head not like would still purchase another pair head phone sound excellent'),\n",
       " (1,\n",
       "  'amazon product however not needed amazon adapter not product not needed amazon made used amazon amazon amazon amazon purchase amazon item amazon make star however dont adapter product work excellent product 4 star'),\n",
       " (1, 'bought big see no found like much'),\n",
       " (1, 'could use last though get product month use'),\n",
       " (1, 'long fast not time'),\n",
       " (1,\n",
       "  'product month work great bad thing not switch price great switch people dont want much home 5'),\n",
       " (1, 'usb cable device case cable seems fine even without'),\n",
       " (1,\n",
       "  'use every day job didnt want headphone pair sony phone year around dont sound quite good phone far cost phone bass low high bad even phone give sound like phone work quite well pair phone 4 back sony phone like made sound phone le also quality cord plug use better cable cable also right work phone cost could bit fit ear though ear not dont back not ear may though sony headphone best headphone ive ive many get'),\n",
       " (0,\n",
       "  'case lot cd case ive bought dont cd quite enough cd back case youre cd work fine want cd great'),\n",
       " (1,\n",
       "  'filter happy filter camera lens used photo no no light another no image review got filter would using light find light review know give since people product love always review find know review people like focus photo see filter two shot light light one picture filter one without shot find im see shot look like without filter cant one filter issue want filter not filter since doesnt shot however want filter expensive lens without shot cant recommend filter also big made know im happy found review review item purchased amazon purchase no people well read review sure review since system many review'),\n",
       " (1,\n",
       "  'bought unit look feel really like well cord switch low plug find unit box box made able find product made would no product problem'),\n",
       " (0, 'nice product work fine recommend since enough'),\n",
       " (1,\n",
       "  'dont last far one go buy use amazon make thing purchase make high quality product make put use work like'),\n",
       " (1, 'lens better price know get shot give 5 get shot even set'),\n",
       " (0, 'issue'),\n",
       " (1,\n",
       "  'great product work great bought 5 could though one use like 3 5 second speaker not fine would not take'),\n",
       " (1,\n",
       "  'item product photo review say product not product amazon not amazon came bag review product may come may purchased item amazon even though product product amazon product price end quality product product amazon not use amazon amazon amazon may look amazon didnt think think amazon item amazon not ive issue amazon amazon amazon youre'),\n",
       " (0, 'work'),\n",
       " (1,\n",
       "  'take player tape tape time time fine one day time didnt think could problem used head time without much better one amazon perfect picture no problem since youre like still know tape get much tape head tape picture go not time using tape head expensive fast easy use'),\n",
       " (1, 'screen monitor youre time get screen look'),\n",
       " (1,\n",
       "  'canon digital camera lens adapter lens cant purchased camera every 3 camera no would not camera canon even use lens not digital another canon old product review review say use used canon not great money dont look seems enough'),\n",
       " (0, 'say price work'),\n",
       " (1,\n",
       "  'ive ear found better good way better way bass cable noise money want buy something get sound little money cant'),\n",
       " (1, 'never product year good quality control quality'),\n",
       " (1,\n",
       "  'using set one far comfortable head sound really good since not great sound music may comfortable quality sound not ear sound use quality great amazon'),\n",
       " (1, 'hard find not cheap not product still bought fast'),\n",
       " (0, 'radio radio review make radio review'),\n",
       " (1,\n",
       "  'second item first one enough purchase another first year would like year use bad battery month using battery find day around computer bag like good product'),\n",
       " (1, 'work seems one got month look lot better le expensive'),\n",
       " (0,\n",
       "  'great well made however without really always filter lens may even back'),\n",
       " (1,\n",
       "  'case not great case light not good quality used get far good lot looking hard find good'),\n",
       " (0, 'love bit expensive though'),\n",
       " (1, 'not going better phone cord getting worth'),\n",
       " (0, 'good'),\n",
       " (1,\n",
       "  'buy better headphone well time headphone 5 keep going one dont like ear people use day something ear never comfortable feel back review sound quality good feature one head excellent light doesnt work headphone ive dont head much would focus second pair keep price quality get want hold feel good easily look good sound good best 5 youre headphone'),\n",
       " (1, 'cheap le pretty well buy looking'),\n",
       " (1,\n",
       "  'bought set sony monitor headphone sony set not last long head one side ear much better much comfortable sound better sony set ear fit around ear like headphone small ear ear not fit ear ear headphone still give good sound ear may find sony even set going headphone people recommend buy sony set want set worth cost sony far'),\n",
       " (1,\n",
       "  'old bit little money unit time ive always make pretty good not unit 3 picture sound good quality not able set feature case hard unit seems little feel cheap button use use another far many small button hard time one even good far purchase last month last'),\n",
       " (1,\n",
       "  'purchased filter didnt filter could make seems going home go filter lens come product make photo dont one get using'),\n",
       " (0, 'bought using one home many year one home didnt right'),\n",
       " (1,\n",
       "  'bought use need something small light enough around dont using power however right thing like'),\n",
       " (1,\n",
       "  'no problem player worked year old dont use much usb see would work old one worked fine bought player use bought not not work problem review'),\n",
       " (1, 'work plug say 3 work fine get switch cant'),\n",
       " (1, 'not get using something didnt work well headphone problem'),\n",
       " (1,\n",
       "  'head using year adapter product cheap year sound one side time made even think expensive get new adapter find sony adapter one year good quality adapter quality also able head cheap adapter used would sound one side adapter quality no year need adapter get one looking around may old quality not high quality better sound'),\n",
       " (0, 'review pretty much say think wire using easily wire really quite'),\n",
       " (1, 'not big enough'),\n",
       " (1,\n",
       "  'bought item day thing dont like way head get ear made give good sound quality cheap price get used comfortable not'),\n",
       " (1, 'headphone small dont look bass day'),\n",
       " (1, 'cheap'),\n",
       " (1,\n",
       "  'cable cable home cable 4 way different fine back another cable cheap put 2 way always picture 2 set always little would bought lot im happy say worked great picture 2 set one box picture thing work'),\n",
       " (1, 'tape fine still much way work one'),\n",
       " (1, 'not issue dvd put dvd dvd'),\n",
       " (1,\n",
       "  'bought around light unit say no worked fine right little le worked well dont want light get wire wire like would 3 way switch get love got work little expensive job much better unit work'),\n",
       " (0, 'well light easy sound much'),\n",
       " (1, 'good little put would like no way'),\n",
       " (1, 'lens work something even lens'),\n",
       " (0, 'work'),\n",
       " (0, 'power cable'),\n",
       " (1,\n",
       "  'first purchase digital camera purchased camera enough one camera well not camera also purchased got picture quality picture picture came quite camera problem light find camera control not time also picture see quality shot much would like see better seems size would better digital without quite nice feature ive found camera didnt digital take picture camera sound noise really small thing give camera take picture different make cant go camera youre looking digital camera feature'),\n",
       " (0, ''),\n",
       " (1, 'product year product buy switch not buy old product'),\n",
       " (1, 'quality read take time'),\n",
       " (1, 'bad unit issue needed nice'),\n",
       " (0, 'work well plug bought 2 camera audio adapter adapter ive item'),\n",
       " (1, 'job however little bit another filter better use lens'),\n",
       " (0,\n",
       "  'price best amazon could find wanted take picture new use shot not camera perfectly still use product button work 4 button camera need camera need make sure not picture product'),\n",
       " (1,\n",
       "  'cable cable box work like cable no also two cable work end cable really didnt work see come without end good quality cable'),\n",
       " (1,\n",
       "  'got item phone system needed phone system plug worked day lot would looking item'),\n",
       " (1,\n",
       "  'even much head two problem head come without see head head without sony doesnt head no getting around take not not hard worth much around always one im going camera use expensive camera canon sony great able control give much better much control also switch power switch still photo button plug control camera sony canon not dont know able enough im little like much also bought one another'),\n",
       " (1, 'better'),\n",
       " (1, 'use'),\n",
       " (1,\n",
       "  'one use screen quite well looking monitor see one side le youre light around make bit little bit read easily also screen nice since go back end year im sure take work think cant see'),\n",
       " (1, 'made much use bought'),\n",
       " (0,\n",
       "  'feature go not able without using go need sound hard want able without even'),\n",
       " (1, 'cable get picture quality 3'),\n",
       " (1,\n",
       "  'power cord needed another one could get one amazon power cord got computer worked would buy power cord'),\n",
       " (1, 'use 2 different speaker tv work good cheap needed one go got amazon no'),\n",
       " (0,\n",
       "  'bought lens filter price cant filter like even well no good light lens not filter lens get im im purchase say lens time lens job fine cant price'),\n",
       " (1,\n",
       "  'price used would bought used 3 new still hard lens came looking like box small fine money though really cant'),\n",
       " (0, 'like 2 4 keep getting home work well'),\n",
       " (1,\n",
       "  'not light low not good however use quite lot seems digital look not well seems see'),\n",
       " (0, 'work'),\n",
       " (1, 'purchased since amazon well get not since case not hard'),\n",
       " (1,\n",
       "  'product time work great would recommend product would use found looking looking purchased tv'),\n",
       " (1, 'good tape buy still hard time make little'),\n",
       " (0,\n",
       "  'love cord sound quality excellent cord purchased two much better good cord much better even cord much quality bass box bass bass not really thing im not really bass ive year never bass purchased well low'),\n",
       " (0, 'worth'),\n",
       " (0,\n",
       "  'dont like made switch mouse control like good like button well work great device quite not get lot day unit get would always make work bit back best buy not'),\n",
       " (1, 'would product need used every day no'),\n",
       " (1, 'know time get new lens get filter'),\n",
       " (1, 'work 2 use'),\n",
       " (0, 'good price not bass like good sound good set price'),\n",
       " (1, 'sure using lot low device'),\n",
       " (0,\n",
       "  'work easily think come pair know first one not never put cable work fine cable not need'),\n",
       " (1, 'device button hard get take getting used different item'),\n",
       " (1, 'not much cable could used youre looking got buy would use product'),\n",
       " (1,\n",
       "  'canon 3 battery month battery quite picture old battery two one work one battery last photo even take problem battery go good battery'),\n",
       " (1, 'still'),\n",
       " (1,\n",
       "  'good headphone thing not headphone right good pair though may not fit case'),\n",
       " (1,\n",
       "  'case feel look like last long time used side would not work well need good get cd'),\n",
       " (0, 'fit far fit little'),\n",
       " (1, 'need review bought going get got day no using use'),\n",
       " (1,\n",
       "  'phone work great youre looking card look no worth doesnt issue dont money may card'),\n",
       " (1, 'one far better would one'),\n",
       " (0,\n",
       "  'cable home cable fine job not really high quality work great phone computer'),\n",
       " (1,\n",
       "  'ive lot battery ive one year without problem issue since job canon recommend get not'),\n",
       " (1, 'battery use one dont last'),\n",
       " (1,\n",
       "  'used 2 month bit keep able get 2 one needed review use case case lot need better could still price job'),\n",
       " (1,\n",
       "  'got first computer right came lot light back found came comfortable got one used well get new time new found year still going year use every day still perfect problem little used use go back different problem comfortable star price amazon far le price see without amazon im not sure got year working working got new year not long 3 star'),\n",
       " (1, 'working old would make quality picture head'),\n",
       " (0,\n",
       "  'radio audio radio may 4 battery power audio quality clear small radio long better better able 4 best not ive not sound radio quality would price cheap expected'),\n",
       " (0, 'nice look'),\n",
       " (0,\n",
       "  'ive month review pair dont lot pretty small also come nice case fit like first using found digital camera better would go much would recommend would pretty good'),\n",
       " (1, 'not bad product'),\n",
       " (1, 'audio card quality feel worked fit fine'),\n",
       " (1, 'worked time money say'),\n",
       " (1,\n",
       "  'price youre not going get better clear high good something could bass youre system youre going want easy make speaker like box'),\n",
       " (1, 'power 4 time no issue cheap say item one le thing 2 amazon time amazon'),\n",
       " (1,\n",
       "  'look way buy cd lot money buy case cost case would buy case going many cd around look price buy cd want buy go buy home money'),\n",
       " (1, 'used'),\n",
       " (1,\n",
       "  'product audio box monitor doesnt headphone audio go speaker use no way volume product able volume ear dont im 4 problem product'),\n",
       " (1, 'bought use computer work fine cheap'),\n",
       " (1,\n",
       "  'would not purchased hard wire get work not one good thing though good good expected'),\n",
       " (0,\n",
       "  'bought filter canon lens purchased cant price didnt like way fit lens time could never get lens always seems like one side bit problem take lens not bad'),\n",
       " (1, 'usb'),\n",
       " (1,\n",
       "  'camera month year would still use camera thing take sony camera great digital camera easy use control easily take great picture getting without feature got really like feature use lot camera first no digital camera come lens quality take picture digital camera get get picture sony way camera also used quite picture image computer screen camera come usb cable work camera cable like problem right think problem first hard no problem size high take one still pretty high picture take nice size high take second low 4 come camera get 4 5 high low high low get bought two card pretty one problem button image not time picture button second take lot shot camera time camera take picture picture shot hard camera not problem camera camera happy'),\n",
       " (0, 'headphone really sound quality good sony also not sound sound'),\n",
       " (1, 'image without getting'),\n",
       " (1, 'could not filter quality fit first amazon'),\n",
       " (1, 'not expensive'),\n",
       " (1,\n",
       "  'dont review much take time many going day high price good get plug work box no make cable cable plug cable another plug cable cable plug 4 computer even people without many people dont know computer get computer know another computer say computer youre cable computer getting great well lot computer people even cost month month give people problem every would one time would pretty bad time would great feature like control come go getting put looking computer nice getting long say easy use always way around device way'),\n",
       " (0,\n",
       "  'still camera bought many year find amazon sure enough bought even though price high think review used bad not worth digital great like able picture photo easy also small enough take no computer need plug photo'),\n",
       " (1,\n",
       "  'work im one see around well bought music work im first thing cord 4 tape noise not well made phone noise well pair ear think head better also long fine not headphone music sound quality sound quality go not say bad home ear monitor audio dont big sure bass little better ear sure sound without thing excellent'),\n",
       " (1, 'light way go low light light without also may light'),\n",
       " (1, 'doesnt well light good good dont want one'),\n",
       " (0, 'work'),\n",
       " (1,\n",
       "  'sound better bought best buy not music also light ear ear long day dont go around ear find expensive phone price'),\n",
       " (0, 'every need power work work fine'),\n",
       " (1,\n",
       "  'cord no cord could make getting new however never get photo thing like another back good cord'),\n",
       " (1, 'excellent good quality looking case found filter'),\n",
       " (1, 'need would use time use also cable audio phone'),\n",
       " (1, 'worked fine cable would cable even'),\n",
       " (1, 'work fine came not cord sound system'),\n",
       " (1,\n",
       "  'bought first came dvd far great not want put dvd also many dvd look sound great good system no problem dvd also many time no problem good unit two player may buy another'),\n",
       " (1, 'may not needed no wanted 2 radio plug one worked time get recommend'),\n",
       " (0,\n",
       "  'price purchased year best used would not use one bought cost around much something price price one cost cost im even used one enough price'),\n",
       " (1,\n",
       "  'like head phone lot ear good cant go really much may want using would 5 star even though used head find make ear give need'),\n",
       " (1, 'item expected bought card one no time'),\n",
       " (0, 'pretty easy back pretty easy'),\n",
       " (1,\n",
       "  'photo filter wanted something would take expensive lens time end lens filter also canon lens expensive dont need lens'),\n",
       " (0, ''),\n",
       " (1, 'two thing even got one cord product'),\n",
       " (0,\n",
       "  'last year using not wanted needed device mouse comfortable get easily enough found two issue get bit take not problem work issue button easy get back button really right button button since right side hard time also seems mouse doesnt work happy mouse not dont think would happy mouse'),\n",
       " (0,\n",
       "  'comfortable people bought phone great sound quality button volume control'),\n",
       " (1,\n",
       "  'needed box high quality made no 3 light switch cord easy big youre something pretty would go 4 since still working tv sound system made right feature since device want last dont know noise come time good job right box could youre going home like want well look no product back'),\n",
       " (1, 'bought product use not better'),\n",
       " (0, 'want case 2 set battery card camera photo case small'),\n",
       " (1,\n",
       "  'got one used year amazon still working one say not hard dont doesnt really much one time think using right find go make get come go like every 2 sure'),\n",
       " (1,\n",
       "  'sound headphone people looking good pretty headphone bass not like low cost headphone low cost not made like take quite ear small size ear make long set however headphone not much noise much music didnt use noise sure use'),\n",
       " (1,\n",
       "  'hard find something quality price something better would cost great sound good bass not great music price cant cable better cable no love'),\n",
       " (1,\n",
       "  'far best headphone ive come ive purchased headphone cord would would ear get give also ear still going around never really ear going around'),\n",
       " (1, 'item star cant get get better small need good sound better radio good'),\n",
       " (1,\n",
       "  'first im not people im not come sound im happy tv tv speaker though always buy tv good sound im headphone come thing audio doesnt much could sound far better headphone good not bought though work seems ive long ive using ear not comfortable long good pair headphone ear would noise im pretty sure really not much noise take also comfortable would review comfortable ive every day day no feel think comfortable feel like head feel dont well sound great ear comfortable noise one product recommend well size side dont always day really no big size though worth big fit hard fit fine think work people'),\n",
       " (1, 'cheap work well'),\n",
       " (1, 'cable work fine switch still working day'),\n",
       " (1, 'good product price not using usb not many'),\n",
       " (1, 'better'),\n",
       " (0, 'worked computer working card system no issue'),\n",
       " (0, ''),\n",
       " (1, 'didnt work bought cd player old work'),\n",
       " (0, 'adapter purchased adapter look computer'),\n",
       " (1,\n",
       "  'review needed lens ive lens well year year image lens lens im lens dont get doesnt hard focus doesnt always youre looking like say really lens ive ive still never use back switch focus get quite bit bag well focus not lens make work something easy would perfect not really could'),\n",
       " (1, 'not buy product'),\n",
       " (1, 'hard not lens time get one not'),\n",
       " (1, 'made'),\n",
       " (1, 'sound'),\n",
       " (1, 'little would make hard way no getting little le put power well not'),\n",
       " (1,\n",
       "  'no tape player not old thing plug music not sure doesnt way really like'),\n",
       " (0,\n",
       "  'never used didnt need cable came product purchased however purchase needed time able'),\n",
       " (1, 'wire not'),\n",
       " (0, ''),\n",
       " (0, 'work fine sound best radio music'),\n",
       " (1, 'got really got one didnt work well say worked well one'),\n",
       " (0,\n",
       "  'bought expensive lens doesnt even lens would lens since purchase bought expensive filter'),\n",
       " (1,\n",
       "  'one canon camera right two one side no lens camera back new lens came like lens im'),\n",
       " (1,\n",
       "  'small light low cost work well tape quality low big enough fit not cord low cost also work'),\n",
       " (1, 'take picture better expected'),\n",
       " (1,\n",
       "  '4 month product work 3 hard unit 2 need another going pretty feature found found cable power would like see high no product good 2 going switch'),\n",
       " (1,\n",
       "  'not long think cable bought 2 wire clear wire would long long great wire though cant say wire wire cable cable fit'),\n",
       " (1,\n",
       "  'usb adapter usb never used mouse cable though another usb adapter time used bought one worked though used system one may different'),\n",
       " (0,\n",
       "  'purchased 2 day price purchased one bad easy however back tv one doesnt hold tv back not big one bought buy tv tv screen system'),\n",
       " (1, 'not best bass headphone good comfortable'),\n",
       " (1,\n",
       "  'ive found product cord ive phone cord phone 2 2 4 year time cord would would phone 5'),\n",
       " (1, 'problem dvd bought didnt not use getting without worked dvd worked'),\n",
       " (1, 'product no shot dont see much would would go filter'),\n",
       " (0, 'not need another one keep find one 4'),\n",
       " (1, 'like one cord le even end cord'),\n",
       " (1,\n",
       "  'right price cable box player player using cord price also looking bought cost cord cord 3 month'),\n",
       " (1,\n",
       "  'put used screen say unit tv back first one job well product made could buy made better time'),\n",
       " (1, 'unit work fine really like unit never big power'),\n",
       " (1, 'not like'),\n",
       " (1, 'sound 2 doesnt right great make sure buy'),\n",
       " (0, 'good lens filter better'),\n",
       " (1, 'lens filter hard get work quality'),\n",
       " (1, 'way'),\n",
       " (1,\n",
       "  'amazon never item bought year review item amazon price would never headphone amazon keep purchase found worked great would love another pair price much worth comfortable worked great'),\n",
       " (1, 'look good feel good put cant put lens not filter'),\n",
       " (1, 'better money going'),\n",
       " (1,\n",
       "  'able low without issue worked right first time unit need not much one came no good know'),\n",
       " (1, 'last unit never'),\n",
       " (1, 'ive looking good pair headphone problem one big ear not sound light'),\n",
       " (1,\n",
       "  'easily computer even box well get issue quite easily never item purchased recommend product'),\n",
       " (0, 'case nice job dont like case feel put good case need not expensive'),\n",
       " (1, 'go back old one get head not want get something take'),\n",
       " (1,\n",
       "  'didnt fit like would never got amazon good getting though im back people got'),\n",
       " (1,\n",
       "  'lens come focus could lot around filter doesnt make happy work really good using way made made feel like picture price'),\n",
       " (1, 'two 2 second 3 new find one cheap great no not expensive'),\n",
       " (1, '5 star price not best money good'),\n",
       " (0,\n",
       "  'without little get got back easy set system thing worked fine get though end usb cable got looking little know card used unit card doesnt card first time getting card not nice button also cost use really best need cheap usb one good no problem used card 2 no'),\n",
       " (1,\n",
       "  'bought card worked getting expected one feature however card use one home one work one different'),\n",
       " (1, 'quality'),\n",
       " (1, 'case case hold dvd one keep'),\n",
       " (0,\n",
       "  'ive cable month made system sound clear also like cable made one not like would price made quite better price'),\n",
       " (1, 'not easily seems like good item unit not not say seems one dont use'),\n",
       " (0, 'could not use really great would'),\n",
       " (1, 'first one year one take back cord time'),\n",
       " (1, 'sound long cord around excellent around head ear'),\n",
       " (1,\n",
       "  'review not problem one camera since day one camera big really not big little hard use better thing found make could use better no camera feature money camera still image quality fine not digital still camera camera high quality still image second'),\n",
       " (0, 'expected product'),\n",
       " (1,\n",
       "  'im using new seems nice product computer could enough time like fine cable doesnt work seems quite even see ive used may not able use time'),\n",
       " (1,\n",
       "  'one canon lens used great lens no lens much lens wanted wanted use without hard purchased lens back lens not happy easy focus'),\n",
       " (1, 'camera still lot problem item good little problem'),\n",
       " (1, 'put high like make much better'),\n",
       " (1, 'filter lens filter something light filter not filter'),\n",
       " (1, 'though ive make use case well made hold feature dvd around case'),\n",
       " (1,\n",
       "  'got didnt know im used focus picture clear every time look something look something no battery needed work time no problem able look able see perfectly fine never time dont think would use le dont see problem would use something way didnt use really clear bad would work would buy another pair'),\n",
       " (1, 'product buy cable amazon big box used item able speaker system'),\n",
       " (0, ''),\n",
       " (1,\n",
       "  'first time camera no first new didnt never buy cheap lens never camera one worth money money long'),\n",
       " (1,\n",
       "  'ive dvd player 3 year im going got see im not however ive lot use player 3 year dont found player year say pretty good le 3 happy review would think no im not really get last would 3 year player another would last year player worked worked well'),\n",
       " (1, 'no work way use two headphone 3 also used product adapter audio'),\n",
       " (0,\n",
       "  'came canon lens lens people like see filter good filter dont put lens really feel like need one digital filter'),\n",
       " (1, 'give get doesnt work one review'),\n",
       " (0, 'great price bad youre looking cable job pretty easily'),\n",
       " (1, 'made right used back dvd'),\n",
       " (1,\n",
       "  'around would pair headphone year one small plug fit say ive headphone phone sony many like one ive use every day comfortable sound got right amazon perfectly use working home one day home cord got head box back no no purchase two new set look high end noise best around set headphone used music even little bit buy not got back go every price second pair 2 year got no phone box back came put phone new pair great even something like thing get come still worth price time cost 5 still new looking pair pretty sure unit got back not one high could pair also plug plug ive also best buy make look little much doesnt like amazon like best buy find headphone well'),\n",
       " (1, 'fit not like sony sound little comfortable long time would'),\n",
       " (1,\n",
       "  'back think like year like got new one back even sound quality headphone good say say sure high clear side enough sound sound quality headphone got one worth'),\n",
       " (1,\n",
       "  'lens im big filter not lens get filter put lens camera filter not many one doesnt month no issue get lens get filter'),\n",
       " (0,\n",
       "  'say lot thing little camera light small picture price many far not able not bought item noise shot not want know used need get tv know tape tape digital go really picture best would around not bad tape not tape like want dvd tape would like get best right want even though camera digital quality way got picture see tape dvd way tv doesnt not getting money worth dvd tv bought 4 tv enough tv going know picture quality'),\n",
       " (1, 'getting not work'),\n",
       " (1, 'power cord'),\n",
       " (1,\n",
       "  'find bag excellent bag much expensive not good one like would like im find lens much work bag find fine not no never looking 2 not sure would 5'),\n",
       " (0,\n",
       "  'make nice camera bag case one amazon not fit camera well even lens use lens even nice case'),\n",
       " (1, 'youre looking wire'),\n",
       " (0, 'work great tape plug see work fine'),\n",
       " (1,\n",
       "  'another camera back old one like lens lens 2 review much 2 not cost money price camera battery use time shot take much photo issue digital camera need photo digital no way image power case using take image image 2 image image picture not issue camera though make may way easily not quite good card enough make camera price'),\n",
       " (1, 'little thing fit used home review'),\n",
       " (1, 'problem since purchase'),\n",
       " (1, 'bought going every time would tv screen would'),\n",
       " (0,\n",
       "  'purchased lens use wanted also use filter get light recommend want filter want filter lens one'),\n",
       " (1, 'say make sure know want buy cable still work year still going'),\n",
       " (0,\n",
       "  'dont enough get lens one always see thing like go quality control back got home amazon last one day need find really far give'),\n",
       " (1, 'buy second no one youre going buy something nice go cheap end use time'),\n",
       " (1, 'filter keep second lens getting quality not worth'),\n",
       " (1, 'got however didnt fit buy one use something'),\n",
       " (1, 'cost product year price better quality product found phone headphone'),\n",
       " (1,\n",
       "  'no good work fine know good quality make tape people dont time no one quality tape tape dont know tape one would not go good price came buy need'),\n",
       " (1, 'filter looking cheap lens filter quality money go one'),\n",
       " (1, 'not put lens used image looking use get home see people work'),\n",
       " (1,\n",
       "  'people cant first may may not pretty people going find bad enough find not enough find could really keep looking seems find though also better sound good know make clear would good side good enough get going'),\n",
       " (1, 'power however job device also got find many many every year'),\n",
       " (1, 'control camera'),\n",
       " (1,\n",
       "  'using 4 year quite best audio quality music quality without clear better ive ive using sound clear phone cheap phone unit easily get quality even using high even 4 year well unit around without issue player im using time no doesnt usb use keep not want usb buy also not use cant however review problem im time come hard right ear get bit got cant find im going buy another pair money new unit use'),\n",
       " (0, 'bought great price dont review say great sound like'),\n",
       " (1,\n",
       "  'im not give review like pretty much cable time price cable made way time new used much money usb cable would cost fast two'),\n",
       " (1, 'like filter give use'),\n",
       " (1,\n",
       "  'little unit well year great battery quality last new made using device still made lot find way back first keep unit still able youre going keep unit not may read not make one unit unit not also not buy unit buy high old high much much better unit use unit little would recommend unit unit battery screen use le unit unit much'),\n",
       " (1,\n",
       "  'purchased headphone sound music found price however made head feel like phone many review product problem many people give another not make fit better using low may also work ear little time take perfect fit able use fine set phone review problem headphone could easy'),\n",
       " (0, 'perfect'),\n",
       " (1,\n",
       "  'volume control not one many however nice pair without feature expensive bought make volume without control computer'),\n",
       " (1,\n",
       "  'im ive using tape year used think sony tape problem issue buy cost new work fine cheap one cheap one sony cheap wanted good bought new head unit get tape looking best tape bought quality know even sony feel like people looking cable go cable tape end thing tape like tape even people dont tape think worth product perfectly sound better tape star'),\n",
       " (1, 'unit like seems fine im not cant got'),\n",
       " (1, 'working fine wire'),\n",
       " (1, 'long work fine use'),\n",
       " (0, 'good'),\n",
       " (0,\n",
       "  'really bag first got wanted small could camera well camera battery battery like like put bag even small bag also found really every time wanted put camera take switch lens get take bag put camera bag switch around big not easy wanted though bag well made feel pretty lot good thing find little hard seems like would bag star issue didnt end need'),\n",
       " (1,\n",
       "  'cost much im first pair button sound plug case two month since make one side well used noise really ear also dont know never wire wire cost second set price first no button music see plug plug different size cant use problem side plug second two get different button easily small doesnt fit plug ear doesnt really fit plug better best sound quality plug doesnt fit plug button purchase buy since like ear music time price buy'),\n",
       " (0,\n",
       "  'bought day always wanted small camera take sony time around first used lot nice well used came camera think look light not well bought box 5 no take better read know really picture camera'),\n",
       " (1, 'not problem'),\n",
       " (0, 'need keep around work fine'),\n",
       " (0, 'job'),\n",
       " (1, 'cable work cheap use no feature though seems quality not'),\n",
       " (1, 'not'),\n",
       " (0,\n",
       "  'good little radio good good good control size though big small im happy'),\n",
       " (1, 'work fine see used read review'),\n",
       " (1, 'head would go case made right though no big'),\n",
       " (1, 'bought 3 year bit plug didnt keep 2'),\n",
       " (1, 'use lens one bought amazon filter much image low light however use'),\n",
       " (1, 'use'),\n",
       " (1,\n",
       "  'purchased cord use came power cord problem cable quality seems fine would purchase'),\n",
       " (1,\n",
       "  'camera excellent every way one end quality image every camera give control every camera feature like need use battery purchase card would recommend card card set 4 battery get usb problem doesnt unit could use'),\n",
       " (1, 'use'),\n",
       " (0, ''),\n",
       " (1,\n",
       "  'bag work well many two problem would second big make bit get time even still like bag'),\n",
       " (1,\n",
       "  'wanted two lens filter unit review would bag bag expensive bag photo bag easily see quality bag not need bag much need one bag not not enough star would price however may bag two one many bag bag recommend'),\n",
       " (0, 'great price'),\n",
       " (1,\n",
       "  'say image quality cable worth every picture quality also worked time well hold'),\n",
       " (1,\n",
       "  'bought head phone phone put much end computer hard case got new pair side ive buy head phone home ear ive head phone ear noise ear always think much using not really since noise ear made money good one thing noise issue used use phone work didnt want music im though youre noise ive thing day without issue'),\n",
       " (1,\n",
       "  'work nice however little want keep even though volume still screen not see know time see work working'),\n",
       " (1,\n",
       "  'screen no screen easily thing use screen make sure screen screen perfect better'),\n",
       " (1, 'dont know say need time like wanted day'),\n",
       " (0, ''),\n",
       " (1,\n",
       "  'item could work many year phone never worked well however work much better product use like able home use like would keep however use tv also great may great product'),\n",
       " (1, 'filter fit right work cheap get one'),\n",
       " (1,\n",
       "  'bought unit old dvd player unit not enough old tv unit easily worked perfectly cord go switch cord tv every time wanted use different device recommend issue recommend cord tape unit back unit cord going device'),\n",
       " (1,\n",
       "  'filter get easy picture filter picture filter come case well could camera bag not filter bit lens sure size lens going using filter good go case filter found around one found'),\n",
       " (1, 'use radio not fit ear without button even'),\n",
       " (0,\n",
       "  'headphone great cost around though keep pair around month great every set headphone used price one ear pair could ear not noise dont get bought 4 pair year seems sony bad sony want back no headphone however price one thing'),\n",
       " (0,\n",
       "  'give tape little music little last 2 unit no problem problem working without sony'),\n",
       " (1,\n",
       "  'item work good work even better another work 2 used end didnt not work well'),\n",
       " (0, 'lot'),\n",
       " (1,\n",
       "  'year one problem though time get first something found even not great time look like great bad enough buy second pair get year happy'),\n",
       " (1, 'long lot low cost'),\n",
       " (1, 'nice sound light'),\n",
       " (1,\n",
       "  'ive year long time good quality headphone use well sound work fine player ive used head head lot problem put doesnt really head far using go recommend people go using head fine using however really sound music noise sound ear headphone not enough ear think 2 unit good tape bit not long cord enough also headphone put use no year le go great price comfortable high quality headphone player battery home pretty nice'),\n",
       " (1, 'doesnt not player need'),\n",
       " (1, 'another review cheap headphone one one even one'),\n",
       " (1, 'cant go'),\n",
       " (0, ''),\n",
       " (1, 'look nice problem different really nice youre want'),\n",
       " (1,\n",
       "  'using two thing get easy monitor used no much focus clear price camera pretty looking'),\n",
       " (1, 'think great filter not'),\n",
       " (0, 'great not long enough 4 work well would recommend 5 wire'),\n",
       " (1,\n",
       "  'would recommend looking lens lens however lens would say fast good lens'),\n",
       " (1,\n",
       "  'didnt buy camera bad review first camera usb needed great bought first image see photo dont give think people image not sure picture also screen see control also im picture not bad camera dont much good one review use camera adapter'),\n",
       " (1,\n",
       "  'bad review didnt come bag could used fine still working year purchase recommend product excellent product still working 5 star'),\n",
       " (1, 'nice looking work great still not come cheap one buy'),\n",
       " (1,\n",
       "  'bought lens lens not fast enough not picture not picture not enough picture camera excellent'),\n",
       " (0, 'good not much say review product time'),\n",
       " (1, 'bought sound quality pretty volume low'),\n",
       " (1, 'purchased could easy unit end didnt use speaker much get worked'),\n",
       " (0,\n",
       "  'device great excellent year still great better one problem still best case use time fast issue say device le want use need back switch buy another get one'),\n",
       " (1, 'filter not say fit quality good le cheap amazon product'),\n",
       " (1,\n",
       "  'image quite good without image im always high image even far expensive high canon image image not also image great high make good product quite canon image make even dont buy expensive pair without first'),\n",
       " (1, 'needed look get time'),\n",
       " (1, 'well made enough look pretty dont know however think problem like'),\n",
       " (1,\n",
       "  'even pretty review good one say make usb camera image second not around old not image work like fast usb 3 4 usb device system still day pretty think good'),\n",
       " (1, 'side however light get screen would recommend'),\n",
       " (1, 'take no time filter not well'),\n",
       " (0, 'canon bag like better think really good bag'),\n",
       " (1, 'bought first much got something'),\n",
       " (1, 'got well made fine youre looking getting radio get amazon make sure'),\n",
       " (1, 'different use'),\n",
       " (1, 'work fine audio not radio'),\n",
       " (0, 'great product speaker speaker two two'),\n",
       " (1, 'cheap good enough'),\n",
       " (1, 'got didnt happy would make using lot really cant go'),\n",
       " (0,\n",
       "  'bought month sound many product also could keep sound great want back still sound hard find feature worked well not radio cd like however like time ive fast 3 every not something one price go really many take every product use sound dont even set fast right'),\n",
       " (1, 'not much say work seems would cable'),\n",
       " (1,\n",
       "  'not find better plug work audio best wire not wire come around back first speaker plug not'),\n",
       " (1,\n",
       "  'make lens however last 2 year quality control issue lens getting amazon not issue still get filter bag good filter'),\n",
       " (1,\n",
       "  'use sony nice phone ive wanted something read review first need go like plug plug ear ear back second ear sound good bass like bass buy dont think nice price work good player make sound'),\n",
       " (1, 'product though'),\n",
       " (1, 'great product product back way not make'),\n",
       " (1, 'not small not light not great like small case shot like dont like back'),\n",
       " (0, 'found really looking bought never used'),\n",
       " (0,\n",
       "  'even get may best product high low sound feel getting price one quality love sound sound get bit also cord get easily quite'),\n",
       " (1,\n",
       "  'year old lot headphone year lot get set product got better ear sound buy cheap set headphone sound really good not comfortable headphone dont sound good comfortable far cant quality headphone 3 time price would recommend great'),\n",
       " (1,\n",
       "  'know people say cable product really not like sound need cable no really know make best cable last speaker wire thing wire no dont music not quality cable speaker wire use cable wire home system set cable wire speaker cable also thing one end power ive used cable wire cheap cable wire dont sound quality speaker wire high quality made last want get music not way using best speaker wire using wire bought expensive home dont system using cheap wire money'),\n",
       " (1, 'screen work well screen however monitor screen still side'),\n",
       " (1,\n",
       "  'im happy player sound quality set many hard control not sound even use find button could feature didnt first audio would cd would around music audio great make get problem audio cd easy audio small came purchased month still two'),\n",
       " (0, ''),\n",
       " (1,\n",
       "  'bought use phone phone working go another make phone not fit however use phone work great would much better quality would recommend phone long would comfortable excellent quality however put take would around not excellent price great make phone much better'),\n",
       " (1, 'lens would not come'),\n",
       " (1,\n",
       "  'case work well easy see screen work control would case excellent job not worth money came back case'),\n",
       " (1,\n",
       "  'year ive not best sound ive price never really sound got go back phone headphone amazon no home long found ear month big sound bass not sound not perfect around phone able able youre high volume quality price light head sound pair ive used take sound quality im also not perfect quality two doesnt enough getting fit youre set headphone'),\n",
       " (1,\n",
       "  'item expected take picture make really photo also find picture not problem filter would not recommend using filter'),\n",
       " (1,\n",
       "  'another review camera not get amazon not like review not also review not sure amazon review'),\n",
       " (1, 'radio work pretty good issue small work good'),\n",
       " (1,\n",
       "  'player one use read first got better box 5 without dvd time im way sony doesnt enough set love'),\n",
       " (1, 'lot case'),\n",
       " (0, 'nice hard'),\n",
       " (1, 'well made cable work fine would look better cable'),\n",
       " (1,\n",
       "  'device player not perfect sound lot sound music not keep power sound not perfect good player'),\n",
       " (0, 'fast well filter buy another one one'),\n",
       " (0,\n",
       "  'using monitor since big enough still speaker speaker shot cant even speaker easy come little not much sound even speaker im didnt go cant image much better'),\n",
       " (0, 'worked good'),\n",
       " (1, 'great dont well not even'),\n",
       " (0, 'sound quality seems cable easy used work star well'),\n",
       " (1, 'high quality cable problem dont buy buy'),\n",
       " (1,\n",
       "  'came time get old computer could not find power cord could hard wanted one not old computer amazon no price one worked like no different one'),\n",
       " (1,\n",
       "  'ive month dont know made without easily even better work home made easily also got come get need not no needed use le year not bad no no no'),\n",
       " (1, 'back old back use'),\n",
       " (1,\n",
       "  'love headphone head know find little work ear head people using using head even im not comfortable'),\n",
       " (1,\n",
       "  'great cable used never use adapter side get adapter good not really another use audio computer cable cost didnt'),\n",
       " (1, 'unit back'),\n",
       " (1, 'day light'),\n",
       " (1,\n",
       "  'sound great one star easy get back cord get easily way cord would better'),\n",
       " (1, 'product not doesnt'),\n",
       " (1,\n",
       "  'great cable never got bad one little 5 time easily though make two would great though'),\n",
       " (1,\n",
       "  'got big fit perfectly quite comfortable sound better sound bass bit le also like case though first time put one ear quite dont'),\n",
       " (1, 'second case work'),\n",
       " (0,\n",
       "  'far better money device another two want device product never really needed never first time around however usb system would recommend product get card'),\n",
       " (1, 'time unit fit'),\n",
       " (1, 'fit'),\n",
       " (0, 'made little side work good good'),\n",
       " (1, 'camera'),\n",
       " (1,\n",
       "  'cable worked well end fit device computer item power issue using product'),\n",
       " (1,\n",
       "  'bought cd still cd player not player worked great used far no bad one thing found sound cd player never able different year cd cd player would not cd'),\n",
       " (1,\n",
       "  'use speaker sound system used much speaker sound would work well new new easy'),\n",
       " (1,\n",
       "  'great usb cable got would around not cable well long not long like phone cord like long cable nice would little cable not would not hard end cable would plug fit well usb would needed long cable find price one nice clear one would one'),\n",
       " (1, 'adapter one'),\n",
       " (1, 'not using'),\n",
       " (0, 'fit camera cant put lens canon lens'),\n",
       " (1,\n",
       "  'bought one one phone music player set le another pair bought hard problem high pair low pair bass sound bass not product something lot using sony headphone lot feel way best sound headphone pair no problem 5 another pair better headphone not price'),\n",
       " (1, 'no sound quality every device'),\n",
       " (0, 'lot price quality'),\n",
       " (1, 'easy put nice fit no sure not worth'),\n",
       " (1, 'one expected one'),\n",
       " (1, 'small fit fine no not thing not work get way issue buy well'),\n",
       " (1, 'ive looking second one always one one size'),\n",
       " (0,\n",
       "  'want like headphone find bit ear buy pair ear headphone work well really'),\n",
       " (0,\n",
       "  'radio sound good feature expensive money le radio sony doesnt sound nice many better noise amazon price sony le sony best'),\n",
       " (1, 'used worked month review month'),\n",
       " (1, 'fine cable'),\n",
       " (1,\n",
       "  'since first since new keep get camera day two camera no quality last year one use best camera want no new well fine camera shot focus take one however no quality hard time get work want get little digital happy want buy camera like use image last going digital perfect not also something fine like something like give want take not'),\n",
       " (1,\n",
       "  'second set first year new one sound good good old one quality old small speaker plug made wire system speaker set much money'),\n",
       " (0,\n",
       "  'able music radio sound great product not one new device look enough not even able work no problem easy still great looking go control may able radio'),\n",
       " (1,\n",
       "  'youre computer youre not want something small fit need perfectly no no box phone cord not even able get le without plug phone cord set youre may well not needed since used quite used set want product give one product also purchased may find want buy'),\n",
       " (1,\n",
       "  'digital since first really money worth camera 2 not however perfect camera first power switch came second sound better battery new control not 3 digital camera though not 3 5 digital still would best price better make camera go however size not one buy better le money'),\n",
       " (1, 'make sure using excellent though use think fine cant side not'),\n",
       " (1, 'thing back expected'),\n",
       " (1,\n",
       "  'cable great not needed not tv not audio digital monitor want audio not buy want device speaker found tv problem cable fine usb speaker audio'),\n",
       " (1,\n",
       "  'bought device would work cable work make switch used day work not problem dont using cd not one problem also read work work happy work still'),\n",
       " (0, 'cable good made nice came time'),\n",
       " (1,\n",
       "  'made big end wire big enough not not use high end plug radio dont need work great'),\n",
       " (0, 'say screen quite bit price thing work better side light get see well'),\n",
       " (1, 'work not cable dont fit well got use'),\n",
       " (1,\n",
       "  'one no cord end fit end one come cord two not sure much one would need know review'),\n",
       " (0, 'not much say work thing worked would need'),\n",
       " (0,\n",
       "  'bought adapter work speaker headphone plug small bought pair plug work well keep price low size need'),\n",
       " (1,\n",
       "  'bought headphone could im volume im using tv system im audio audio need sound around headphone two audio long radio dont come adapter could not get box box easy box box one get headphone problem cant getting find headphone last dont im going hard time getting box'),\n",
       " (1,\n",
       "  'high quality sound player cheap though work also hard could 3 month easy case'),\n",
       " (0,\n",
       "  'make good cable product people dont case cable home system get perfect sound radio need one end plug plug'),\n",
       " (1, 'battery always however great got camera worth say work'),\n",
       " (1,\n",
       "  'adapter ive used still going year use one month no adapter cant much le money ive year found one money buy one buy something using amazon feature purchased price no review product amazon product review not one review review review not review case not one case'),\n",
       " (1,\n",
       "  'used speaker amazon say like mouse speaker fit wire no good new still good new speaker 2 feel bass'),\n",
       " (1,\n",
       "  'not first purchase product expected review not product well power power cable long enough without need would recommend product'),\n",
       " (1, 'filter lens filter light work cost filter much le lens'),\n",
       " (0, 'bought first picture best quality no not get good one say worth'),\n",
       " (1,\n",
       "  'wanted radio use like new music use tv needed something would hold little radio easy used back first one would not no'),\n",
       " (1,\n",
       "  'used since high bought set sound sound bought one ear first sound system recommend system set found sound sound system not one could back'),\n",
       " (1, 'tape say'),\n",
       " (1, 'feel like back cheap work also expected 2 year old got hold'),\n",
       " (1,\n",
       "  'back think bought one mouse bought one still working button getting time get another go high something different bought give well make long im back going get back get thing'),\n",
       " (1, 'really work first card doesnt able make people'),\n",
       " (1,\n",
       "  'bought radio great also battery power not im happy working using month using no way radio use radio 4 5 like one radio first button radio keep one ear pretty easy head phone radio im tv speaker im speaker without tv not something tv like two battery one fine no power recommend radio long time look something like sony'),\n",
       " (1, 'one expected one thing back get one'),\n",
       " (0,\n",
       "  'bought didnt need power look enough give usb cable need usb not getting getting mouse usb fine'),\n",
       " (1,\n",
       "  'got one digital power problem computer one year power problem last year computer always never use still use'),\n",
       " (1, 'problem month use pretty great cheap cable dont think would'),\n",
       " (0, 'first time purchase bought going get day needed would not bought feel'),\n",
       " (1, 'seems make pretty'),\n",
       " (1,\n",
       "  'take mouse great 2 button back button dont back button go back button keep focus comfortable thing use around like le expensive take getting used'),\n",
       " (0,\n",
       "  'product great want product thing great since two different case fast great'),\n",
       " (1, 'not go lens image quality cheap cant go'),\n",
       " (1, 'bad back year use using back work well good use'),\n",
       " (1, 'sound'),\n",
       " (0, ''),\n",
       " (1, 'one power old unit still worked one'),\n",
       " (1,\n",
       "  'work great price really good quality made used 2 different worked fine one one doesnt always well even made ive work great good not made audio cant fine not however read good review time hard one not perfectly put back come right problem head would year used time also used many used many 3 cant however different read fine product purchase'),\n",
       " (1,\n",
       "  'buy product like not quality good lens quite clear even needed something bit'),\n",
       " (1, 'even many getting hard find im not still want cd think may another'),\n",
       " (1,\n",
       "  'fine cheap headphone pretty comfortable well need something cheap take dont headphone get'),\n",
       " (1, 'great price worked day no'),\n",
       " (1,\n",
       "  'able mouse not problem box would would think no problem two worked fine also usb not would made even better product got use'),\n",
       " (1,\n",
       "  'good product not great could take better picture head make find box fit unit doesnt feature product right well not great low price would recommend product dont feature camera want use unit not great good used digital camera'),\n",
       " (1,\n",
       "  'bought two one really wanted dvd cd one 2 nice didnt issue see case would not able lot not hard case dont use last case nice'),\n",
       " (1,\n",
       "  'easy work great didnt want every able easily see working not working fine screen side'),\n",
       " (1, 'first would another one worked fine'),\n",
       " (0, 'tv not tv no make tv not recommend though easy'),\n",
       " (1, 'around no product 2 year'),\n",
       " (1,\n",
       "  'needed audio tv review cable good bought two cable every not plug also money'),\n",
       " (1, 'two day way really cd make sound radio buy'),\n",
       " (1,\n",
       "  'cord one end end cable long cable cable many wire feel one look product end plug end plug end end well product look like give many year like item not go cord use not box cable use plug end not cord cable cable no product many year product could day use one want cord go need get product dont one cord want cord used two price no star not cord one go one looking need one looking give cable need year'),\n",
       " (1,\n",
       "  'bought work find lot issue people easily get use dont get buy expensive time'),\n",
       " (1,\n",
       "  'bought old lens problem lens need no good not problem first lens need not work'),\n",
       " (0,\n",
       "  'read price amazon year dvd player first unit not tv need set radio sure get unit need another set product dont'),\n",
       " (1, 'not even put two battery radio used 4 different still'),\n",
       " (1, 'case hold cd come 5 could one want still buy'),\n",
       " (0, ''),\n",
       " (1,\n",
       "  'one small feature need lot also battery fast headphone sony review im not bought im using player cd player bought really better radio however'),\n",
       " (1,\n",
       "  'come card im not sure make adapter not not keep phone card also like 5 like far card without issue new card'),\n",
       " (0, 'end filter price bought good'),\n",
       " (1,\n",
       "  'go like phone get every time not seems phone ive one get get great product could really use phone cord end'),\n",
       " (1, 'sound'),\n",
       " (1,\n",
       "  'really cant go great work well well get better picture quality youre still know expensive amazon le cost amazon item 3 time need get different got 3 still thing however cant go one ive read not know want lot quality people best one cost high used would 5'),\n",
       " (1, 'filter picture'),\n",
       " (1,\n",
       "  'would looking needed something could cd enough cd not enough perfect need also keep cd use computer cd getting way also case no hard case not using would easily would use little would would recommend easy use perfect'),\n",
       " (0, 'needed'),\n",
       " (1, 'way better'),\n",
       " (1,\n",
       "  'audio thing looking well found may say would price not lot get thing like power old not every time every time not great sound quality expected without sound looking'),\n",
       " (1, 'not much usb cable able'),\n",
       " (1,\n",
       "  'purchased case didnt think would use le need cable used two cable going 2 3 case'),\n",
       " (1, 'sound quality way old'),\n",
       " (1, 'quality product not happy'),\n",
       " (1, 'never'),\n",
       " (0, 'sound tv cant also computer pretty much'),\n",
       " (0,\n",
       "  'purchased lens lens different look read review lens one people know say never lens one'),\n",
       " (0,\n",
       "  'love product one didnt 2 working no something switch thing another review im not power work great recommend different product'),\n",
       " (0, 'feel little cheap work well really cant well enough small work'),\n",
       " (1, 'quality'),\n",
       " (1, 'cord speaker dont getting'),\n",
       " (0, 'worth'),\n",
       " (0,\n",
       "  'got really needed cable put monitor got better put see give read fine cable need use'),\n",
       " (1, 'pretty look nice side side ive got cable needed pretty good looking'),\n",
       " (1, 'dont like not using radio'),\n",
       " (1,\n",
       "  'nice cable cable come got usb cable amazon not work different sony go not every go device'),\n",
       " (1,\n",
       "  'product one thing doesnt two two side look picture cable not big problem going cable two computer without cable little bit'),\n",
       " (0, 'work little sound'),\n",
       " (0, 'good'),\n",
       " (0, 'got new last year camera focus better filter cost'),\n",
       " (1,\n",
       "  'quality seems not great better quality money would better little happy would love see far better product cant time come good'),\n",
       " (1, 'nice comfortable though long'),\n",
       " (0, 'buy im got low like no problem got new box'),\n",
       " (1,\n",
       "  'ive review not working could not ive no no problem using cable no problem using computer problem unit system two look different set one no system not give use people would not want system ive able find really work well without would not'),\n",
       " (1,\n",
       "  'im still find tape could still buy know good could new good tape long use work every day'),\n",
       " (1, 'always device much not 3 4 device time not much device picture device'),\n",
       " (0, 'good worked fine need pretty product think nice job'),\n",
       " (0, ''),\n",
       " (1,\n",
       "  'bought come also dont fit ear fit come hard get make put ear really well sound much better'),\n",
       " (1, 'think power around'),\n",
       " (1, 'picture'),\n",
       " (1,\n",
       "  'got audio end work expected no issue still working fine not much say cable'),\n",
       " (1, 'take picture camera would get nice picture without'),\n",
       " (1,\n",
       "  'wanted low price cant see digital picture using filter get filter filter buy another one'),\n",
       " (1, 'didnt end not first time used didnt fit cable system love'),\n",
       " (1,\n",
       "  'not much say need 2 battery since end day one battery one not battery battery canon quality pretty good would however battery quality battery quite expensive'),\n",
       " (0, 'able fit 2 cable one look nice really'),\n",
       " (0,\n",
       "  'quality good come small could fit lens got feel like thing feel like something one day fit bag go bag small camera lens'),\n",
       " (1,\n",
       "  'got headphone little review bought 3 pair since got new sony player month dont know think small ear ear even day could not even dont even know expected one didnt like would give money back could im im way im year old first year bought one first sony even big people'),\n",
       " (1,\n",
       "  'back way im well im pretty sure would end much first also little bit using back case'),\n",
       " (1, 'worked even first time fine home say'),\n",
       " (1, '2'),\n",
       " (0,\n",
       "  'good headphone dont get sound phone best price keep expensive headphone home'),\n",
       " (1,\n",
       "  'image camera great not camera even would not recommend picture best thing picture one got take 4 battery 4 le'),\n",
       " (0,\n",
       "  'lot headphone comfortable head working lot like bought pair one side dont time keep also price 5 bought last year'),\n",
       " (1,\n",
       "  'no issue phone read card device small issue came music using not still not know not read card say see device find use device one system issue far plug cable came phone system worked issue le small not issue find issue get'),\n",
       " (1, 'hard back tape'),\n",
       " (0, 'like digital camera review camera love not'),\n",
       " (1, 'cost le'),\n",
       " (1,\n",
       "  'bought mouse first came 2 year never never problem mouse still not side button worked work home great product another'),\n",
       " (1, 'screen'),\n",
       " (1,\n",
       "  'time problem time wanted bad also wanted make sure no time sound going time radio use time get different one want get'),\n",
       " (1,\n",
       "  'sound sound great volume low would though sound volume thing think may youre not headphone unit not 2 thing not 3 not perfectly get not long quality im getting not dont know easy cd unit seems fine 4 fine far not cd player think getting little 5 not look cheap thing get cost thing expensive'),\n",
       " (1,\n",
       "  'cheap bought speaker le price speaker bought speaker much cost go cheap end cheap product product bought first'),\n",
       " (1, 'didnt come bought'),\n",
       " (1, '3 like cable put got'),\n",
       " (1,\n",
       "  'item right one thing usb not usb used phone picture item got like need one good use'),\n",
       " (1, 'new device get work price 4'),\n",
       " (1, 'not ive purchased price le ive enough end around small buy'),\n",
       " (1, 'one item'),\n",
       " (1, 'really say dont feel'),\n",
       " (1, 'well new go feature item read item new'),\n",
       " (1,\n",
       "  'looking something one another without better get little perfect picture however battery two battery one one not well use'),\n",
       " (1, 'still look first going'),\n",
       " (1,\n",
       "  'filter month 4 lens great feel image quality use lens think better filter'),\n",
       " (1, 'unit hard pretty problem unit not'),\n",
       " (1, 'power back power came back really work'),\n",
       " (1,\n",
       "  'even though something come set computer one ive cable put put purchase new since wanted able much could take low cost right computer one much worked never even no time since ive cable time problem never since low time know every im not cant better new price really no not right'),\n",
       " (1,\n",
       "  'best mouse buy money mouse doesnt work mouse like keep mouse one no around mouse take little time new way using mouse use'),\n",
       " (1, 'thing ive used thing wanted screen card not computer youre buy'),\n",
       " (0,\n",
       "  'one expensive lens get low price ive found lens pretty even focus lens best well high quality picture may lens bought lens get price lens quality best still pretty like may still great price'),\n",
       " (1,\n",
       "  'im sound quality little speaker didnt buy no need one bass sound pair speaker could easily go 3 4 time price would'),\n",
       " (1,\n",
       "  'bought first pair headphone year used music working sound quality no since time time headphone high quality ear sound quality sony headphone got would use really hard last 2 one ear amazon see find still price bought something buy would put headphone sound better dont think better give another year use'),\n",
       " (1,\n",
       "  'need think long time think second filter bought two one nice able shot 4 shot'),\n",
       " (1, 'monitor 2 second also not power every able cable product im'),\n",
       " (0, 'good find use good price well always'),\n",
       " (1, 'used filter'),\n",
       " (1,\n",
       "  'review looking picture picture would need around however day well however im camera take nice picture found picture fine one didnt come picture price bad would digital camera'),\n",
       " (1,\n",
       "  'time cost not time much cost much quality sound cost always money bit bass audio last year purchased two set headphone expensive first two purchase pretty good bass came home back not great bass could bit bass using two headphone came find using pair different music quality music bass wanted case not bass quite le back used also purchase better home audio cd player computer found getting could music better money purchase dont think found bad review little back every review money right purchase music really didnt think get getting cd came cd player also volume best could cd back no time put first thing not digital far job even like im not good job ive read review better clear clear cost better better didnt long hard not cant say every like also found looking music pair headphone would think not feel music also music see could would bass say good thing still bass well may think bass bit better doesnt make still say doesnt like could find using would think found excellent headphone one perfect pair headphone need think excellent need like music im go need not headphone still quite dont like much audio enough long think best headphone'),\n",
       " (1, 'first computer'),\n",
       " (1, 'going go found made not going price'),\n",
       " (1,\n",
       "  'one year would long not not perfect pretty good two cord cord star bought another old unit small old unit working well another year unit small 3 year old still like item'),\n",
       " (1,\n",
       "  'also dvd cost dvd price price bought one one 4 could tape worked like dvd could like end end go dvd cant find better player one getting dvd bought get one le bought'),\n",
       " (1,\n",
       "  'time speaker didnt speaker bought speaker say working quite happy could volume quite high without volume quite low could volume still headphone bought cant much better music sound read see sound better sound better im take home time however im music volume want without'),\n",
       " (1,\n",
       "  'bought use focus work getting focus going work focus lens great lens low light focus'),\n",
       " (1, 'well new better time come'),\n",
       " (1,\n",
       "  'purchased 2 cable use wanted one cable device work perfectly however phone get noise speaker time cord player want cord good buy different make'),\n",
       " (1, 'put two time got time never never time read new review no'),\n",
       " (1, 'cable way though'),\n",
       " (1, 'use no head phone'),\n",
       " (1,\n",
       "  'first lens look make say quite bit get wanted star feel however still getting know lens little not much dont focus also found lens could long time shot could lot lens got good canon lens one well pair see look head easy use lens even not purchase really wanted canon lens feel price lens need time still want end purchased cheap lens im think find really lens looking lens looking work well best like'),\n",
       " (1, 'need volume control one work fine not volume control'),\n",
       " (1,\n",
       "  'purchased item two quality device lot better switch feel like something'),\n",
       " (0, 'good quality'),\n",
       " (1, 'made'),\n",
       " (1,\n",
       "  'expensive first time get back phone time easy put not put home phone since every day not many pair always used find enough phone used phone would go say le time not high'),\n",
       " (1,\n",
       "  'filter find work clear come enough look great looking filter screen fit perfectly even using working thing screen even set light easy see like even home may want one people cant see cant see even though im not sure amazon 4 buy good great fit screen perfect high quality doesnt ive little dont know year worth use month no issue great look really head could want filter clear much filter filter right make hard see like screen use use make little get using side light good around dont like really long filter come small time work also clear see easily look cheap little big use find far screen much problem little not no price even little look much filter dont see around going much quite good filter good little really hard put recommend work looking'),\n",
       " (1, 'bass le expected not price comfortable headphone even long time'),\n",
       " (1, 'need quality seems not great money'),\n",
       " (1, 'not like'),\n",
       " (1,\n",
       "  'never one got side way around didnt filter one look one way look clear another thing looking computer monitor clear one way without filter filter size work made think also made see much make light first back didnt know one case not better filter better price seems good filter get many need issue filter image picture not see see seems little'),\n",
       " (1, 'dont know work power seems work look fine big'),\n",
       " (1, 'cheap like ive no issue however get'),\n",
       " (1,\n",
       "  'sound way better expected sound one plug right case working right no like got bad review people seems not working need like not best time dont know come high quality high review worth'),\n",
       " (1,\n",
       "  'high cable problem well cable fit phone filter problem problem high cable high cable cable well'),\n",
       " (1, 'purchased two unit two fit one plug unit im power sure review'),\n",
       " (0, 'no recommend product'),\n",
       " (0,\n",
       "  'would two second time got second fast didnt tape got unit year put tape worked fine no problem'),\n",
       " (0,\n",
       "  'old get sound even needed new old one like year fast would recommend player better one'),\n",
       " (1, 'bought wanted sure get 3 computer far think not product'),\n",
       " (1, 'im not sure really want cd work cheap got bad quality one'),\n",
       " (0,\n",
       "  'used thing without card big bit purchased dont buy also buy card card camera like'),\n",
       " (1,\n",
       "  'power box set one end set plug make sure end im using power power give product 5 star im one since dont work box would problem since pretty different problem power need side need another power quite enough fit dont use bit youre using able fit get another another able power right see no like first'),\n",
       " (0, 'easy'),\n",
       " (1, 'cable buy one didnt work'),\n",
       " (1,\n",
       "  'used picture seems work even going back purchased product since also case worked really well got'),\n",
       " (1, 'speaker not sound speaker cost le happy bass'),\n",
       " (1, 'not bad'),\n",
       " (1, 'set price great head light not ear ear doesnt go ear able find great'),\n",
       " (1,\n",
       "  'bought lens focus feature would not work looking cheap way get little time lens get great shot shot could not without lens work not review read like lens much price know get picture would recommend use camera work focus feature'),\n",
       " (1, 'cable fit expensive cable found hard give'),\n",
       " (1,\n",
       "  'need cheap headphone headphone cost much big box dont sound fit better got pair one like'),\n",
       " (1,\n",
       "  'thing high 2 day know long got head take tape tape go button didnt head way worked far may keep issue not issue used time day noise quite'),\n",
       " (1, 'quality'),\n",
       " (0, 'purchased year one no one working dont think one one make sure'),\n",
       " (1, 'not used expected two 4 one'),\n",
       " (1, 'time need light'),\n",
       " (1,\n",
       "  'good bought 3 year far no problem work right however bought not good review one one may come still dont need use go also going cost cheap make sure not always looking'),\n",
       " (1,\n",
       "  'wanted 2 computer sound system found headphone work found got item need adapter 2 end 2 computer 2 end speaker adapter able end computer adapter needed adapter computer adapter plug speaker working'),\n",
       " (1, 'not need buy one came'),\n",
       " (1, 'time know work well dont buy card get however not use system better'),\n",
       " (1,\n",
       "  'purchased amazon picture quality great however looking camera right really camera take time read camera camera purchase one usb cable camera camera picture right camera image photo came computer photo put new'),\n",
       " (1, 'working'),\n",
       " (0, 'use long not really price right need'),\n",
       " (1, '3 without image quality'),\n",
       " (1, 'looking right filter make use'),\n",
       " (1, 'not know put product say'),\n",
       " (0, 'good 2 two power best thing usb'),\n",
       " (1, 'plug two light battery back power'),\n",
       " (1,\n",
       "  'work came box dvd bought volume 2 also easily give 4 star 5 noise not not perfect product'),\n",
       " (0, 'come headphone dont need'),\n",
       " (1,\n",
       "  'filter find one not worth money filter worth every would looking filter lens'),\n",
       " (1,\n",
       "  'used item well may used like new not box card not not way focus lens not not used lens used would recommend lens'),\n",
       " (1, 'first'),\n",
       " (1, 'purchased not photo'),\n",
       " (1,\n",
       "  'power pretty good star plug good quality nice lot plug plug adapter plug many people buy device plug lot power unit get way would plug could use get big enough put would buy one much unit one doesnt quite problem still power'),\n",
       " (1,\n",
       "  'bought item price quality using noise quality sound really case came head set'),\n",
       " (1,\n",
       "  'always used system head since found tape head work fine use tape home not going problem high quality tape tape head time problem tape tape may picture even picture sound tape tape quality get head audio head system head always problem found head issue tape head really work unit problem found best best use head problem not use year'),\n",
       " (1, 'cord come different'),\n",
       " (1, 'im new wire 4 two new work im not use'),\n",
       " (1,\n",
       "  'month made purchase around see device see high see price thing cost since last month amazon need better product first best product buy lot amazon would bought since amazon read much not button device love use every day device go even using may may not screen bit device not use also button home screen not look like without going read say new screen looking product read not go people buy working audio not headphone however buy not like not not device not give lot bought get come one much time like different great used no around bag get one another get low cost well take thing nice case purchased great price first not good got case also came screen'),\n",
       " (1,\n",
       "  'quite well dont hold well seems keep looking speaker little music without'),\n",
       " (1,\n",
       "  'mouse product great job looking mouse not give product 5 right side mouse'),\n",
       " (1,\n",
       "  'sony comfortable keep ear sound dont noise cord may good side dont cost much year still work feel cheap sound much bass not noise not good thing cord comfortable use computer use tv cord go side get comfortable device used ear always ear headphone however use computer two cord sound not good lot bass may device also back could bass im not like say dont like headphone didnt cost lot good not sure like quality set headphone ear sound great doesnt really lot cant headphone ear always ear'),\n",
       " (1, 'used problem used fine side no always'),\n",
       " (1,\n",
       "  'case dvd case long time lot keep product really good quality doesnt something buy 2 even'),\n",
       " ...]"
      ]
     },
     "execution_count": 64,
     "metadata": {},
     "output_type": "execute_result"
    }
   ],
   "source": [
    "indices = [i for i,v in enumerate(y_pred) if y_pred[i]!=ground_truth[i]]\n",
    "correct_label =[ground_truth[i][0] for i in indices]\n",
    "wrong_pred = [X_test_padded[i] for i in indices]\n",
    "wrong_pred = tokenizer.sequences_to_texts(wrong_pred)\n",
    "wrong_pred_labeled = list(zip(correct_label,wrong_pred))\n",
    "wrong_pred_labeled"
   ]
  },
  {
   "cell_type": "markdown",
   "metadata": {},
   "source": [
    "#### While the preprocessed texts are not always easy to interpret, we do see in some instances negative words are used in an overall positive review and the other way around, and even for a human to interpret these reviews as negative or positive would be challenging. We should also keep in mind that reviews are highly subjective, and one person may be very upset over small defects, while another would be more forgiving, and this will be reflected in the final star rating"
   ]
  },
  {
   "cell_type": "markdown",
   "metadata": {},
   "source": [
    "## Part 3 <a class=\"anchor\" id=\"part3\"></a>\n",
    "### Transfer Learning with BERT"
   ]
  },
  {
   "cell_type": "markdown",
   "metadata": {},
   "source": [
    "#### To improve on the results of an LSTM, we'll try using a BERT model on these texts. Bert has built-in preprocessing, and we do not need to use any additional data cleaning/transformation for it."
   ]
  },
  {
   "cell_type": "code",
   "execution_count": 66,
   "metadata": {},
   "outputs": [
    {
     "data": {
      "text/plain": [
       "65360    I have to add my $.02.  This is a super little...\n",
       "27108    great Radio, looking for a radio to just use i...\n",
       "47686    I'll be honest, I don't know too much about UV...\n",
       "88927                               Fast and Easy process!\n",
       "39240    Just a nice thing that it's good to have for t...\n",
       "                               ...                        \n",
       "18638                           nothing else is important!\n",
       "61808    I was looking for a lens to get low light port...\n",
       "60955    Great little lens...I tend to leave it on my c...\n",
       "48546                                              perfect\n",
       "77601    Dear Self,\\n\\nEver since you bought these deli...\n",
       "Name: reviewText, Length: 79988, dtype: object"
      ]
     },
     "execution_count": 66,
     "metadata": {},
     "output_type": "execute_result"
    }
   ],
   "source": [
    "X_train,X_test, y_train, y_test = train_test_split(review_df['reviewText'], review_df['rating'],\n",
    "                                                   test_size = 0.2, random_state = 42, \n",
    "                                                   stratify = review_df['rating'])\n",
    "X_train"
   ]
  },
  {
   "cell_type": "code",
   "execution_count": 67,
   "metadata": {},
   "outputs": [
    {
     "data": {
      "text/plain": [
       "(19998,)"
      ]
     },
     "execution_count": 67,
     "metadata": {},
     "output_type": "execute_result"
    }
   ],
   "source": [
    "X_test.shape"
   ]
  },
  {
   "cell_type": "code",
   "execution_count": 68,
   "metadata": {},
   "outputs": [],
   "source": [
    "#we'll use keras hub that has the model  and preprocessor already configured\n",
    "bert_preprocess = hub.KerasLayer('https://tfhub.dev/tensorflow/bert_en_uncased_preprocess/3')\n",
    "bert_encoder = hub.KerasLayer('https://tfhub.dev/tensorflow/bert_en_uncased_L-12_H-768_A-12/4')"
   ]
  },
  {
   "cell_type": "code",
   "execution_count": 69,
   "metadata": {},
   "outputs": [],
   "source": [
    "text_input = tf.keras.layers.Input(shape=(), dtype=tf.string, name='text')\n",
    "preprocessed_text = bert_preprocess(text_input)\n",
    "outputs = bert_encoder(preprocessed_text)\n",
    "# Neural network layers - we added additional dropout to combat overfitting and a \n",
    "#dense layer as initial model did not perform that well\n",
    "\n",
    "top = tf.keras.layers.Dropout(0.3, name=\"dropout\")(outputs['pooled_output'])\n",
    "top = tf.keras.layers.Dense(100)(top)\n",
    "top = tf.keras.layers.Dense(1, activation='sigmoid', name=\"output\")(top)\n",
    "\n",
    "bert_model = tf.keras.Model(inputs=[text_input], outputs = [top])\n"
   ]
  },
  {
   "cell_type": "code",
   "execution_count": 70,
   "metadata": {},
   "outputs": [
    {
     "name": "stdout",
     "output_type": "stream",
     "text": [
      "Model: \"model_1\"\n",
      "__________________________________________________________________________________________________\n",
      " Layer (type)                   Output Shape         Param #     Connected to                     \n",
      "==================================================================================================\n",
      " text (InputLayer)              [(None,)]            0           []                               \n",
      "                                                                                                  \n",
      " keras_layer (KerasLayer)       {'input_word_ids':   0           ['text[0][0]']                   \n",
      "                                (None, 128),                                                      \n",
      "                                 'input_mask': (Non                                               \n",
      "                                e, 128),                                                          \n",
      "                                 'input_type_ids':                                                \n",
      "                                (None, 128)}                                                      \n",
      "                                                                                                  \n",
      " keras_layer_1 (KerasLayer)     {'default': (None,   109482241   ['keras_layer[0][0]',            \n",
      "                                768),                             'keras_layer[0][1]',            \n",
      "                                 'encoder_outputs':               'keras_layer[0][2]']            \n",
      "                                 [(None, 128, 768),                                               \n",
      "                                 (None, 128, 768),                                                \n",
      "                                 (None, 128, 768),                                                \n",
      "                                 (None, 128, 768),                                                \n",
      "                                 (None, 128, 768),                                                \n",
      "                                 (None, 128, 768),                                                \n",
      "                                 (None, 128, 768),                                                \n",
      "                                 (None, 128, 768),                                                \n",
      "                                 (None, 128, 768),                                                \n",
      "                                 (None, 128, 768),                                                \n",
      "                                 (None, 128, 768),                                                \n",
      "                                 (None, 128, 768)],                                               \n",
      "                                 'sequence_output':                                               \n",
      "                                 (None, 128, 768),                                                \n",
      "                                 'pooled_output': (                                               \n",
      "                                None, 768)}                                                       \n",
      "                                                                                                  \n",
      " dropout (Dropout)              (None, 768)          0           ['keras_layer_1[0][13]']         \n",
      "                                                                                                  \n",
      " dense_2 (Dense)                (None, 100)          76900       ['dropout[0][0]']                \n",
      "                                                                                                  \n",
      " output (Dense)                 (None, 1)            101         ['dense_2[0][0]']                \n",
      "                                                                                                  \n",
      "==================================================================================================\n",
      "Total params: 109,559,242\n",
      "Trainable params: 77,001\n",
      "Non-trainable params: 109,482,241\n",
      "__________________________________________________________________________________________________\n"
     ]
    }
   ],
   "source": [
    "bert_model.summary()"
   ]
  },
  {
   "cell_type": "code",
   "execution_count": null,
   "metadata": {},
   "outputs": [],
   "source": [
    "#As we can see, only layers added by us are trainable"
   ]
  },
  {
   "cell_type": "markdown",
   "metadata": {},
   "source": [
    "checkpoint_cb = ModelCheckpoint(\"bert.h5\", save_best_only = True)\n",
    "bert_model.compile(optimizer='adam', loss='binary_crossentropy', metrics=['accuracy'])\n",
    "bert_model.fit(X_train, y_train, validation_split = 0.2, epochs=100, batch_size = 64,class_weight = class_weights,\n",
    "                      callbacks = [checkpoint_cb, early_stop_cb],)"
   ]
  },
  {
   "cell_type": "code",
   "execution_count": 72,
   "metadata": {},
   "outputs": [],
   "source": [
    "#optional loading saved model if we need to rerun notebook. Since it contains a keras hub custom layer, \n",
    "#we need to pass custom objects\n",
    "bert_model = keras.models.load_model(\"bert.h5\",\n",
    "       custom_objects={'KerasLayer':hub.KerasLayer}\n",
    ")"
   ]
  },
  {
   "cell_type": "code",
   "execution_count": 77,
   "metadata": {},
   "outputs": [
    {
     "name": "stdout",
     "output_type": "stream",
     "text": [
      "625/625 [==============================] - 282s 451ms/step - loss: 0.3652 - accuracy: 0.8591\n",
      "0:04:42.445603 282445.603\n"
     ]
    }
   ],
   "source": [
    "start_time = datetime.datetime.now()\n",
    "\n",
    "bert_model.evaluate(X_test, y_test)\n",
    "\n",
    "end_time = datetime.datetime.now()\n",
    "time_diff = (end_time - start_time)\n",
    "execution_time = time_diff.total_seconds() * 1000\n",
    "\n",
    "print(time_diff,execution_time)"
   ]
  },
  {
   "cell_type": "code",
   "execution_count": 74,
   "metadata": {},
   "outputs": [
    {
     "name": "stdout",
     "output_type": "stream",
     "text": [
      "625/625 [==============================] - 281s 449ms/step\n"
     ]
    }
   ],
   "source": [
    "y_proba = bert_model.predict(X_test)\n",
    "y_pred_bert = np.round(y_proba)"
   ]
  },
  {
   "cell_type": "code",
   "execution_count": 75,
   "metadata": {},
   "outputs": [
    {
     "name": "stdout",
     "output_type": "stream",
     "text": [
      "              precision    recall  f1-score   support\n",
      "\n",
      "         0.0       0.40      0.57      0.47      2208\n",
      "         1.0       0.94      0.89      0.92     17790\n",
      "\n",
      "    accuracy                           0.86     19998\n",
      "   macro avg       0.67      0.73      0.70     19998\n",
      "weighted avg       0.88      0.86      0.87     19998\n",
      "\n"
     ]
    }
   ],
   "source": [
    "print(classification_report(y_pred_bert,y_test, digits = 2))"
   ]
  },
  {
   "cell_type": "code",
   "execution_count": 76,
   "metadata": {},
   "outputs": [
    {
     "data": {
      "text/plain": [
       "Text(33.0, 0.5, 'Predicted Output')"
      ]
     },
     "execution_count": 76,
     "metadata": {},
     "output_type": "execute_result"
    },
    {
     "data": {
      "image/png": "[encoded data removed]",
      "text/plain": [
       "<Figure size 432x288 with 2 Axes>"
      ]
     },
     "metadata": {
      "needs_background": "light"
     },
     "output_type": "display_data"
    }
   ],
   "source": [
    "cm= confusion_matrix(y_pred_bert, y_test)\n",
    "ax=sns.heatmap(cm, annot=True, fmt=\"0\", annot_kws={\"size\":10})\n",
    "plt.xlabel('Actual Output', fontsize=20)\n",
    "plt.ylabel('Predicted Output', fontsize=20)"
   ]
  },
  {
   "cell_type": "markdown",
   "metadata": {},
   "source": [
    "#### BERT gave us  a boost in performance,  and a better balance between precision and recall on the minor class, but it was very computationally heavy despite having been pretrained. To try and mitigate these issues, we are going to try a Distilbert model - which is a smaller version of BERT that has significantly less parameters but preserves 95% of performance"
   ]
  },
  {
   "cell_type": "markdown",
   "metadata": {},
   "source": [
    "## Part 4 <a class=\"anchor\" id=\"part4\"></a>\n",
    "### Transfer Learning with DistilBERT"
   ]
  },
  {
   "cell_type": "code",
   "execution_count": 102,
   "metadata": {},
   "outputs": [],
   "source": [
    "#We'll try another popular Deep Learning library - higging face. It has a number of pretrained transformer \n",
    "#architectures to choose from.\n",
    "# Instantiate DistilBERT tokenizer...we use the Fast version due to computational limitations\n",
    "tokenizer = DistilBertTokenizerFast.from_pretrained('distilbert-base-uncased')"
   ]
  },
  {
   "cell_type": "code",
   "execution_count": 103,
   "metadata": {},
   "outputs": [],
   "source": [
    "X_train, X_val, y_train, y_val = train_test_split(X_train, y_train, test_size = 0.3, \n",
    "                                                 random_state = 42, stratify = y_train)"
   ]
  },
  {
   "cell_type": "code",
   "execution_count": 104,
   "metadata": {},
   "outputs": [],
   "source": [
    "'''\n",
    "This function will prebatch and prepare data for distilbert model.\n",
    "We will pass both the vectorized texts and attention mask to our model. Attention mask will allow the model \n",
    "to not waste resources on padded tokens. Also, the model requires to add beginning and end-of-sequence tokens \n",
    "to the inputs\n",
    "We again limit texts to 200 words, \n",
    "'''\n",
    "max_length = 200\n",
    "def batch_encode(tokenizer, texts, batch_size=256, max_length=max_length):\n",
    "    input_ids = []\n",
    "    attention_mask = []\n",
    "    \n",
    "    for i in range(0, len(texts), batch_size):\n",
    "        count = 0\n",
    "        batch = texts[i:i+batch_size]\n",
    "        inputs = tokenizer.batch_encode_plus(batch,max_length=max_length,padding='max_length',\n",
    "            truncation=True,return_attention_mask=True,return_token_type_ids=False)\n",
    "                                             \n",
    "    \n",
    "        input_ids.extend(inputs['input_ids'])\n",
    "        attention_mask.extend(inputs['attention_mask'])\n",
    "    return tf.convert_to_tensor(input_ids), tf.convert_to_tensor(attention_mask)\n",
    "    \n",
    "    \n",
    "# Encode data:\n",
    "X_train_ids, X_train_attention = batch_encode(tokenizer, X_train.tolist())\n",
    "\n",
    "X_valid_ids, X_valid_attention = batch_encode(tokenizer, X_val.tolist())\n",
    "\n",
    "X_test_ids, X_test_attention = batch_encode(tokenizer, X_test.tolist())"
   ]
  },
  {
   "cell_type": "code",
   "execution_count": 105,
   "metadata": {},
   "outputs": [
    {
     "data": {
      "text/plain": [
       "TensorShape([19998, 200])"
      ]
     },
     "execution_count": 105,
     "metadata": {},
     "output_type": "execute_result"
    }
   ],
   "source": [
    "X_test_ids.shape"
   ]
  },
  {
   "cell_type": "code",
   "execution_count": null,
   "metadata": {},
   "outputs": [],
   "source": [
    "#We Will slightly change the default configuration to add Dropout for regularization purposes.\n",
    "DISTILBERT_DROPOUT = 0.4\n",
    "DISTILBERT_ATT_DROPOUT = 0.4\n",
    "\n",
    "config = DistilBertConfig(dropout=DISTILBERT_DROPOUT, \n",
    "                          attention_dropout=DISTILBERT_ATT_DROPOUT, \n",
    "                          output_hidden_states=True)\n",
    "\n",
    "distilBERT = TFDistilBertModel.from_pretrained('distilbert-base-uncased', config=config)\n",
    "\n",
    "# Make DistilBERT layers untrainable\n",
    "for layer in distilBERT.layers:\n",
    "    layer.trainable = False"
   ]
  },
  {
   "cell_type": "code",
   "execution_count": 107,
   "metadata": {},
   "outputs": [],
   "source": [
    "'''\n",
    "Function to build distilbert model\n",
    "'''\n",
    "MAX_LENGTH = 200\n",
    "RANDOM_STATE = 42\n",
    "def build_model(transformer, max_length=MAX_LENGTH):\n",
    "    \n",
    "    input_ids_layer = tf.keras.layers.Input(shape=(max_length,), \n",
    "                                            name='input_ids', \n",
    "                                            dtype='int32')\n",
    "    input_attention_layer = tf.keras.layers.Input(shape=(max_length,), \n",
    "                                                  name='input_attention', \n",
    "                                                  dtype='int32')\n",
    "    \n",
    "    last_hidden_state = transformer([input_ids_layer, input_attention_layer])[0]\n",
    "    \n",
    "    cls_token = last_hidden_state[:, 0, :]\n",
    "\n",
    "    output = tf.keras.layers.Dense(1, \n",
    "                                   activation='sigmoid',\n",
    "                                   #kernel_initializer=weight_initializer,  \n",
    "                                   )(cls_token)\n",
    "    \n",
    "    model = tf.keras.Model([input_ids_layer, input_attention_layer], output)\n",
    "    \n",
    "    model.compile(tf.keras.optimizers.Adam(), \n",
    "                  loss='binary_crossentropy',\n",
    "                  metrics=['accuracy'])\n",
    "    \n",
    "    return model"
   ]
  },
  {
   "cell_type": "code",
   "execution_count": 108,
   "metadata": {},
   "outputs": [],
   "source": [
    "distilbert = build_model(distilBERT, max_length = 200)"
   ]
  },
  {
   "cell_type": "code",
   "execution_count": 109,
   "metadata": {},
   "outputs": [
    {
     "name": "stdout",
     "output_type": "stream",
     "text": [
      "Model: \"model_3\"\n",
      "__________________________________________________________________________________________________\n",
      " Layer (type)                   Output Shape         Param #     Connected to                     \n",
      "==================================================================================================\n",
      " input_ids (InputLayer)         [(None, 200)]        0           []                               \n",
      "                                                                                                  \n",
      " input_attention (InputLayer)   [(None, 200)]        0           []                               \n",
      "                                                                                                  \n",
      " tf_distil_bert_model_3 (TFDist  TFBaseModelOutput(l  66362880   ['input_ids[0][0]',              \n",
      " ilBertModel)                   ast_hidden_state=(N               'input_attention[0][0]']        \n",
      "                                one, 200, 768),                                                   \n",
      "                                 hidden_states=((No                                               \n",
      "                                ne, 200, 768),                                                    \n",
      "                                 (None, 200, 768),                                                \n",
      "                                 (None, 200, 768),                                                \n",
      "                                 (None, 200, 768),                                                \n",
      "                                 (None, 200, 768),                                                \n",
      "                                 (None, 200, 768),                                                \n",
      "                                 (None, 200, 768)),                                               \n",
      "                                 attentions=None)                                                 \n",
      "                                                                                                  \n",
      " tf.__operators__.getitem_2 (Sl  (None, 768)         0           ['tf_distil_bert_model_3[0][7]'] \n",
      " icingOpLambda)                                                                                   \n",
      "                                                                                                  \n",
      " dense_4 (Dense)                (None, 1)            769         ['tf.__operators__.getitem_2[0][0\n",
      "                                                                 ]']                              \n",
      "                                                                                                  \n",
      "==================================================================================================\n",
      "Total params: 66,363,649\n",
      "Trainable params: 769\n",
      "Non-trainable params: 66,362,880\n",
      "__________________________________________________________________________________________________\n"
     ]
    }
   ],
   "source": [
    "distilbert.summary()"
   ]
  },
  {
   "cell_type": "markdown",
   "metadata": {},
   "source": [
    "checkpoint_cb = ModelCheckpoint(\"distilbert.h5\", save_best_only = True)\n",
    "batch_size = 64\n",
    "NUM_STEPS = len(X_train.index) //64\n",
    "history = distilbert.fit(\n",
    "    x = [X_train_ids, X_train_attention],\n",
    "    y = y_train.to_numpy(),\n",
    "    epochs = 100,\n",
    "    batch_size = 64,\n",
    "    steps_per_epoch = NUM_STEPS,\n",
    "    validation_data = ([X_valid_ids, X_valid_attention], y_val.to_numpy()),\n",
    "    class_weight = class_weights,\n",
    "                      callbacks = [checkpoint_cb, early_stop_cb],\n",
    ")"
   ]
  },
  {
   "cell_type": "code",
   "execution_count": null,
   "metadata": {},
   "outputs": [],
   "source": [
    "distilbert = keras.models.load_model(\"distilbert.h5\",\n",
    "       custom_objects={'TFDistilBertModel':transformers.TFDistilBertModel}\n",
    ")"
   ]
  },
  {
   "cell_type": "code",
   "execution_count": 111,
   "metadata": {
    "scrolled": true
   },
   "outputs": [
    {
     "name": "stdout",
     "output_type": "stream",
     "text": [
      "625/625 [==============================] - 189s 300ms/step - loss: 0.3132 - accuracy: 0.8658\n",
      "0:03:08.805296 188805.296\n"
     ]
    }
   ],
   "source": [
    "start_time = datetime.datetime.now()\n",
    "\n",
    "distilbert.evaluate([X_test_ids, X_test_attention], y_test)\n",
    "\n",
    "end_time = datetime.datetime.now()\n",
    "time_diff = (end_time - start_time)\n",
    "execution_time = time_diff.total_seconds() * 1000\n",
    "\n",
    "print(time_diff,execution_time) \n",
    "#the accuracy between BERT and DistilBERT is quite comparable, in fact DistilBERT is even slightly better on this run"
   ]
  },
  {
   "cell_type": "markdown",
   "metadata": {},
   "source": [
    "####  It would be hard to compare training time between Bert and DistilBert, since it runs through a different number of epochs, however at inference time, we can see that Bert takes 0:04:42 (4:42 minutes) to evaluate, and DistilBert needs 0:03:08 (3:08 minutes) for the same task. We can see computational savings at inference times."
   ]
  },
  {
   "cell_type": "code",
   "execution_count": 112,
   "metadata": {},
   "outputs": [
    {
     "name": "stdout",
     "output_type": "stream",
     "text": [
      "625/625 [==============================] - 185s 294ms/step\n"
     ]
    }
   ],
   "source": [
    "y_proba_distil = distilbert.predict([X_test_ids, X_test_attention])\n",
    "y_pred_distil = np.round(y_proba_distil)"
   ]
  },
  {
   "cell_type": "code",
   "execution_count": 113,
   "metadata": {},
   "outputs": [
    {
     "name": "stdout",
     "output_type": "stream",
     "text": [
      "              precision    recall  f1-score   support\n",
      "\n",
      "         0.0       0.69      0.56      0.62      3863\n",
      "         1.0       0.90      0.94      0.92     16135\n",
      "\n",
      "    accuracy                           0.87     19998\n",
      "   macro avg       0.79      0.75      0.77     19998\n",
      "weighted avg       0.86      0.87      0.86     19998\n",
      "\n"
     ]
    }
   ],
   "source": [
    "print(classification_report(y_pred_distil,y_test, digits = 2))"
   ]
  },
  {
   "cell_type": "markdown",
   "metadata": {},
   "source": [
    "#### DistilBERT seems to be doing better on our minor class - both in terms of precision and recall, but keeps good performance on the major class too"
   ]
  },
  {
   "cell_type": "code",
   "execution_count": 114,
   "metadata": {},
   "outputs": [
    {
     "data": {
      "text/plain": [
       "Text(33.0, 0.5, 'Predicted Output')"
      ]
     },
     "execution_count": 114,
     "metadata": {},
     "output_type": "execute_result"
    },
    {
     "data": {
      "image/png": "[encoded data removed]",
      "text/plain": [
       "<Figure size 432x288 with 2 Axes>"
      ]
     },
     "metadata": {
      "needs_background": "light"
     },
     "output_type": "display_data"
    }
   ],
   "source": [
    "cm= confusion_matrix(y_pred_distil, y_test)\n",
    "ax=sns.heatmap(cm, annot=True, fmt=\"0\", annot_kws={\"size\":10})\n",
    "plt.xlabel('Actual Output', fontsize=20)\n",
    "plt.ylabel('Predicted Output', fontsize=20)"
   ]
  },
  {
   "cell_type": "markdown",
   "metadata": {},
   "source": [
    "## Part 5 <a class=\"anchor\" id=\"part5\"></a>\n",
    "### Transfer Learning with DistilBERT - this time no class weights"
   ]
  },
  {
   "cell_type": "code",
   "execution_count": 94,
   "metadata": {},
   "outputs": [
    {
     "name": "stdout",
     "output_type": "stream",
     "text": [
      "Epoch 1/100\n",
      "874/874 [==============================] - 752s 860ms/step - loss: 0.3272 - accuracy: 0.8608 - val_loss: 0.2862 - val_accuracy: 0.8751\n",
      "Epoch 2/100\n",
      "874/874 [==============================] - 751s 860ms/step - loss: 0.3288 - accuracy: 0.8592 - val_loss: 0.2720 - val_accuracy: 0.8837\n",
      "Epoch 3/100\n",
      "874/874 [==============================] - 751s 860ms/step - loss: 0.3299 - accuracy: 0.8589 - val_loss: 0.2695 - val_accuracy: 0.8858\n",
      "Epoch 4/100\n",
      "874/874 [==============================] - 750s 859ms/step - loss: 0.3280 - accuracy: 0.8616 - val_loss: 0.2736 - val_accuracy: 0.8832\n",
      "Epoch 5/100\n",
      "874/874 [==============================] - 750s 859ms/step - loss: 0.3282 - accuracy: 0.8594 - val_loss: 0.2777 - val_accuracy: 0.8804\n",
      "Epoch 6/100\n",
      "874/874 [==============================] - 751s 859ms/step - loss: 0.3303 - accuracy: 0.8582 - val_loss: 0.2737 - val_accuracy: 0.8827\n",
      "Epoch 7/100\n",
      "874/874 [==============================] - 750s 859ms/step - loss: 0.3294 - accuracy: 0.8590 - val_loss: 0.2893 - val_accuracy: 0.8741\n",
      "Epoch 8/100\n",
      "874/874 [==============================] - 750s 859ms/step - loss: 0.3304 - accuracy: 0.8590 - val_loss: 0.2725 - val_accuracy: 0.8828\n",
      "Epoch 9/100\n",
      "874/874 [==============================] - 750s 859ms/step - loss: 0.3301 - accuracy: 0.8605 - val_loss: 0.2825 - val_accuracy: 0.8770\n",
      "Epoch 10/100\n",
      "874/874 [==============================] - 750s 859ms/step - loss: 0.3287 - accuracy: 0.8603 - val_loss: 0.2762 - val_accuracy: 0.8811\n",
      "Epoch 11/100\n",
      "874/874 [==============================] - 750s 859ms/step - loss: 0.3282 - accuracy: 0.8596 - val_loss: 0.2918 - val_accuracy: 0.8745\n",
      "Epoch 12/100\n",
      "874/874 [==============================] - 751s 859ms/step - loss: 0.3284 - accuracy: 0.8601 - val_loss: 0.2983 - val_accuracy: 0.8701\n",
      "Epoch 13/100\n",
      "874/874 [==============================] - 750s 859ms/step - loss: 0.3291 - accuracy: 0.8598 - val_loss: 0.2836 - val_accuracy: 0.8766\n"
     ]
    }
   ],
   "source": [
    "#for the sake of experiment, we want to see how running the model on an imbalanced dataset as is \n",
    "#will affect the final result\n",
    "checkpoint_cb = ModelCheckpoint(\"distilbert_no_class_weight.h5\", save_best_only = True)\n",
    "batch_size = 64\n",
    "NUM_STEPS = len(X_train.index) //64\n",
    "history = distilbert.fit(\n",
    "    x = [X_train_ids, X_train_attention],\n",
    "    y = y_train.to_numpy(),\n",
    "    epochs = 100,\n",
    "    batch_size = 64,\n",
    "    steps_per_epoch = NUM_STEPS,\n",
    "    validation_data = ([X_valid_ids, X_valid_attention], y_val.to_numpy()),\n",
    "                      callbacks = [checkpoint_cb, early_stop_cb],)"
   ]
  },
  {
   "cell_type": "code",
   "execution_count": 95,
   "metadata": {},
   "outputs": [
    {
     "name": "stdout",
     "output_type": "stream",
     "text": [
      "625/625 [==============================] - 185s 296ms/step - loss: 0.2699 - accuracy: 0.8852\n"
     ]
    },
    {
     "data": {
      "text/plain": [
       "[0.2699439227581024, 0.885238528251648]"
      ]
     },
     "execution_count": 95,
     "metadata": {},
     "output_type": "execute_result"
    }
   ],
   "source": [
    "distilbert.evaluate([X_test_ids, X_test_attention], y_test)"
   ]
  },
  {
   "cell_type": "code",
   "execution_count": 96,
   "metadata": {},
   "outputs": [
    {
     "name": "stdout",
     "output_type": "stream",
     "text": [
      "625/625 [==============================] - 184s 294ms/step\n"
     ]
    }
   ],
   "source": [
    "y_proba_distil_no_weight = distilbert.predict([X_test_ids, X_test_attention])\n",
    "y_pred_distil_no_weight = np.round(y_proba_distil)"
   ]
  },
  {
   "cell_type": "code",
   "execution_count": 97,
   "metadata": {},
   "outputs": [
    {
     "name": "stdout",
     "output_type": "stream",
     "text": [
      "              precision    recall  f1-score   support\n",
      "\n",
      "         0.0       0.01      0.15      0.02       265\n",
      "         1.0       0.99      0.84      0.91     19733\n",
      "\n",
      "    accuracy                           0.83     19998\n",
      "   macro avg       0.50      0.50      0.47     19998\n",
      "weighted avg       0.97      0.83      0.90     19998\n",
      "\n"
     ]
    }
   ],
   "source": [
    "print(classification_report(y_pred_distil_no_weight,y_test, digits = 2))"
   ]
  },
  {
   "cell_type": "markdown",
   "metadata": {},
   "source": [
    "#### As expected, we get very good performance on the major class, but model is pretty much useless for predicting the minor class, which demonstrated the importance of choosing correct metrics for evaluation and proper preparation of imbalanced datasets"
   ]
  },
  {
   "cell_type": "markdown",
   "metadata": {},
   "source": [
    "## Part 6 <a class=\"anchor\" id=\"part6\"></a>\n",
    "### Conclusion and Challenges"
   ]
  },
  {
   "cell_type": "markdown",
   "metadata": {},
   "source": [
    "### Challenges: \n",
    "1. NLP is an active area of research and even state-of-the-art models often struggle on simple (in human terms) language tasks. \n",
    "2. Language models require large computational power and amounts of data, since the feature space is as a rule very large. \n",
    "3. NLP is also challenging in terms of data preparation. Different models require different input format, and even built-in preprocessors still ofteen require a lot of addiitonal steps. \n",
    "4. In terms of the specific dataset we chose - reviews are highly subjective and the same defects in the product can be calssified by reviewers as accceptable and overall positive or unacceptable and negative. We can think of such data as crowd-sourced data labeling. There are no experts, who can use objective criteria to determine if the text has positive or negative connotation. Every reviewer has their own assessment of the same product."
   ]
  },
  {
   "cell_type": "markdown",
   "metadata": {},
   "source": [
    "### In our project we investigated different model architectures for performing NLP sentiment analysis. We were able to achieve the best accuracy of ~86% with the best perorming model (DistilBERT), with an F1-score of 62 for the minor class. Our opinion is that further hyperparameter tuning and trying other architectures will further improve the performance of the model. In fact, even Bidirectional LSTM could be further improved and is much faster in terms of training than  transformers with transfer learning. "
   ]
  }
 ],
 "metadata": {
  "colab": {
   "collapsed_sections": [],
   "name": "amazon_ratings_prediction_project_local.ipynb",
   "provenance": [],
   "toc_visible": true
  },
  "kernelspec": {
   "display_name": "tf_env",
   "language": "python",
   "name": "tf_env"
  },
  "language_info": {
   "codemirror_mode": {
    "name": "ipython",
    "version": 3
   },
   "file_extension": ".py",
   "mimetype": "text/x-python",
   "name": "python",
   "nbconvert_exporter": "python",
   "pygments_lexer": "ipython3",
   "version": "3.10.5"
  }
 },
 "nbformat": 4,
 "nbformat_minor": 1
}
